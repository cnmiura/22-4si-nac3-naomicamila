{
 "cells": [
  {
   "cell_type": "markdown",
   "metadata": {
    "id": "Rj0DqHjtuBA9"
   },
   "source": [
    "# NAC3 - Aprendizado de maquina\n",
    "\n",
    "| Nome dos Integrantes     | RM             | Turma   |\n",
    "| :----------------------- | :------------- | :-----: |\n",
    "| Camila G. Marraccini      | RM   83209     |    4SIS |\n",
    "| Carolina Naomi           | RM   83166     |    4SIS |\n",
    "\n",
    "\n",
    "## Data de entrega final\n",
    "\n",
    "Será considerado para avaliação e correção o ultimo commit do `** dia 11/09 (domingo) **`\n",
    "\n",
    "`O grupo deve responder ao Google forms` : [https://forms.gle/EEYUkZiWcJ6Xduah6](https://forms.gle/EEYUkZiWcJ6Xduah6)\n",
    "\n",
    "\n",
    "## Rubrica \n",
    "\n",
    "Os critérios de avaliação do projeto será conforme a rubrica.\n",
    "\n",
    "\n",
    "- R1: Exploração de Dados (Até 1 ponto)\n",
    "- R2: Preparação de Dados (Até 2 ponto)\n",
    "- R3: Desenvolvimento do Modelo (Até 1 ponto)\n",
    "- R4: Treinamento e Teste do Modelo (Até 2 ponto)\n",
    "- R5: Validação e Otimização do Modelo (Até 3 ponto)\n",
    "- R6: Conclusões Finais (Até 1 ponto)\n",
    "- R7: Deploy (Até 2 pontos *extra) \n",
    "\n",
    "Nota_final = R1 + R2 + R3 + R4 + R5 + R6 + R7\n",
    "\n",
    "\n",
    "``Siga todas as instruções deste noteboook, mas não limite suas análises apenas ao conteúdo visto em aula.``\n",
    "\n",
    "\n",
    "Nas celulas **Seu Código aqui...** significa que é necessário realizar a implementação de algum código. Utilize quantos blocos julgar necessário para criar o código de resposta.\n",
    "\n",
    "Nas celulas **Responda** significa que é nessário uma resposta clara e objetiva (pode ser por texto, gráfico, imagem...) para a pergunta.\n",
    "\n",
    "**Respeite a rubrica e não responda fora de ordem ou sequência**\n",
    "\n"
   ]
  },
  {
   "cell_type": "markdown",
   "metadata": {
    "id": "DVsLKp-wuBBB"
   },
   "source": [
    "## Análise preditiva de doeça cardíaca em pacientes\n",
    "\n",
    "![](coracao.jpg)\n",
    "\n",
    "\n",
    "\n",
    "Vamos trabalhar com um CONJUNTO DE DADOS DE DOENÇA CARDÍACA afim de ``predizer a presença ou não de doenças do coração em pacientes``.    \n",
    "\n",
    "[dataset: https://ieee-dataport.org/open-access/heart-disease-dataset-comprehensive](https://ieee-dataport.org/open-access/heart-disease-dataset-comprehensive).\n"
   ]
  },
  {
   "cell_type": "markdown",
   "metadata": {
    "id": "tYHS-56RuBBB"
   },
   "source": [
    "## 1. Exploração de Dados"
   ]
  },
  {
   "cell_type": "markdown",
   "metadata": {
    "id": "us-XKUabuBBC"
   },
   "source": [
    "Carregue o dataset e faça uma visualização das primeiras linhas (identificação básica apenas confirmar se a base foi carregada corretamente).\n"
   ]
  },
  {
   "cell_type": "code",
   "execution_count": 166,
   "metadata": {
    "id": "GPAOiu-RuBBC"
   },
   "outputs": [],
   "source": [
    "import seaborn as sns\n",
    "import matplotlib.pyplot as plt\n",
    "import pandas as pd\n",
    "import numpy as np\n",
    "\n",
    "%matplotlib inline"
   ]
  },
  {
   "cell_type": "code",
   "execution_count": 167,
   "metadata": {
    "colab": {
     "base_uri": "https://localhost:8080/",
     "height": 250
    },
    "id": "6qGESXf8uBBD",
    "outputId": "5b23aa40-0ec9-4846-a851-01a26a358d49"
   },
   "outputs": [
    {
     "data": {
      "text/html": [
       "<div>\n",
       "<style scoped>\n",
       "    .dataframe tbody tr th:only-of-type {\n",
       "        vertical-align: middle;\n",
       "    }\n",
       "\n",
       "    .dataframe tbody tr th {\n",
       "        vertical-align: top;\n",
       "    }\n",
       "\n",
       "    .dataframe thead th {\n",
       "        text-align: right;\n",
       "    }\n",
       "</style>\n",
       "<table border=\"1\" class=\"dataframe\">\n",
       "  <thead>\n",
       "    <tr style=\"text-align: right;\">\n",
       "      <th></th>\n",
       "      <th>age</th>\n",
       "      <th>sex</th>\n",
       "      <th>chest pain type</th>\n",
       "      <th>resting bp s</th>\n",
       "      <th>cholesterol</th>\n",
       "      <th>fasting blood sugar</th>\n",
       "      <th>resting ecg</th>\n",
       "      <th>max heart rate</th>\n",
       "      <th>exercise angina</th>\n",
       "      <th>oldpeak</th>\n",
       "      <th>ST slope</th>\n",
       "      <th>class</th>\n",
       "    </tr>\n",
       "  </thead>\n",
       "  <tbody>\n",
       "    <tr>\n",
       "      <th>0</th>\n",
       "      <td>40</td>\n",
       "      <td>male</td>\n",
       "      <td>2</td>\n",
       "      <td>140</td>\n",
       "      <td>289</td>\n",
       "      <td>0</td>\n",
       "      <td>0</td>\n",
       "      <td>172</td>\n",
       "      <td>no</td>\n",
       "      <td>0</td>\n",
       "      <td>1</td>\n",
       "      <td>Normal</td>\n",
       "    </tr>\n",
       "    <tr>\n",
       "      <th>1</th>\n",
       "      <td>49</td>\n",
       "      <td>female</td>\n",
       "      <td>3</td>\n",
       "      <td>160</td>\n",
       "      <td>180</td>\n",
       "      <td>0</td>\n",
       "      <td>0</td>\n",
       "      <td>156</td>\n",
       "      <td>no</td>\n",
       "      <td>10</td>\n",
       "      <td>2</td>\n",
       "      <td>heart disease</td>\n",
       "    </tr>\n",
       "    <tr>\n",
       "      <th>2</th>\n",
       "      <td>37</td>\n",
       "      <td>male</td>\n",
       "      <td>2</td>\n",
       "      <td>130</td>\n",
       "      <td>283</td>\n",
       "      <td>0</td>\n",
       "      <td>1</td>\n",
       "      <td>98</td>\n",
       "      <td>no</td>\n",
       "      <td>0</td>\n",
       "      <td>1</td>\n",
       "      <td>Normal</td>\n",
       "    </tr>\n",
       "    <tr>\n",
       "      <th>3</th>\n",
       "      <td>48</td>\n",
       "      <td>female</td>\n",
       "      <td>4</td>\n",
       "      <td>138</td>\n",
       "      <td>214</td>\n",
       "      <td>0</td>\n",
       "      <td>0</td>\n",
       "      <td>108</td>\n",
       "      <td>yes</td>\n",
       "      <td>15</td>\n",
       "      <td>2</td>\n",
       "      <td>heart disease</td>\n",
       "    </tr>\n",
       "    <tr>\n",
       "      <th>4</th>\n",
       "      <td>54</td>\n",
       "      <td>male</td>\n",
       "      <td>3</td>\n",
       "      <td>150</td>\n",
       "      <td>195</td>\n",
       "      <td>0</td>\n",
       "      <td>0</td>\n",
       "      <td>122</td>\n",
       "      <td>no</td>\n",
       "      <td>0</td>\n",
       "      <td>1</td>\n",
       "      <td>Normal</td>\n",
       "    </tr>\n",
       "  </tbody>\n",
       "</table>\n",
       "</div>"
      ],
      "text/plain": [
       "   age     sex  chest pain type  resting bp s  cholesterol  \\\n",
       "0   40    male                2           140          289   \n",
       "1   49  female                3           160          180   \n",
       "2   37    male                2           130          283   \n",
       "3   48  female                4           138          214   \n",
       "4   54    male                3           150          195   \n",
       "\n",
       "   fasting blood sugar  resting ecg  max heart rate exercise angina  oldpeak  \\\n",
       "0                    0            0             172              no        0   \n",
       "1                    0            0             156              no       10   \n",
       "2                    0            1              98              no        0   \n",
       "3                    0            0             108             yes       15   \n",
       "4                    0            0             122              no        0   \n",
       "\n",
       "   ST slope          class  \n",
       "0         1         Normal  \n",
       "1         2  heart disease  \n",
       "2         1         Normal  \n",
       "3         2  heart disease  \n",
       "4         1         Normal  "
      ]
     },
     "metadata": {},
     "output_type": "display_data"
    }
   ],
   "source": [
    "#Seu Código aqui...\n",
    "data = pd.read_csv('heart_statlog_cleveland_hungary_final2.csv')\n",
    "display(data.head())"
   ]
  },
  {
   "cell_type": "markdown",
   "metadata": {
    "id": "tvXr9ItmuBBE"
   },
   "source": [
    "**Pergunta:** Apresente (Escreva) uma descrição dos atributos (colunas) e seu significado:\n",
    "\n",
    "Exemplo: \n",
    "\n",
    "- id: Representa o fabricante\n",
    "- fuel_type: tipo de combustível (pode ser Gasolina ou Disel)\n",
    "- price: Representa o valor do carro (**Variável Alvo, atributo que será predito pelo modelo de ML**)"
   ]
  },
  {
   "cell_type": "markdown",
   "metadata": {
    "id": "2rANAl_MuBBE"
   },
   "source": [
    "**Responda**\n",
    "\n",
    "* age = representa a idade do paciente em anos. \n",
    "* sex = representa o gênero do paciente (masculino/feminino). \n",
    "* chest pain type = representa qual o tipo de dor no peito que o paciente sente, podendo ser até assintomática. \n",
    "* resting blood pressure = representa a pressão do sangue do paciente.\n",
    "* cholesterol = representa o nível de colesterol do paciente.\n",
    "* fasting blood sugar = representa se o nível de açúcar no sangue do paciente é maior que 120mg (1= true, 0=false).\n",
    "* resting electrocardiogram results = representa os resultados do eletrocardiograma do paciente, podendo estar normal ou com alterações.\n",
    "* maximum heart rate achieved = representa o máximo de batimentos cardíacos atingidos pelo paciente por min. \n",
    "* exercise induced angina = representa a angina induzida pelo exercício.\n",
    "* oldpeak = representa o pico antigo aos exames. \n",
    "* the slope of the peak exercise ST segment = representa a reação ao exercício de pico.\n",
    "* class = valor binário que representa se o paciente está saudável ou possui algum problema no coração. "
   ]
  },
  {
   "cell_type": "markdown",
   "metadata": {
    "id": "BiVm27DvuBBF"
   },
   "source": [
    "### Análise profunda dos dados\n",
    "\n",
    "Faça uma análise exploratória dos dados. Utilize-se de gráficos e tabelas auxiliares, faça correlações entre os atributos para compreeder a natureza do problema."
   ]
  },
  {
   "cell_type": "code",
   "execution_count": 168,
   "metadata": {
    "colab": {
     "base_uri": "https://localhost:8080/",
     "height": 356
    },
    "id": "AGxhOkq1uBBF",
    "outputId": "f918722d-dd20-48b3-c9d7-57de2d83ed54",
    "scrolled": false
   },
   "outputs": [
    {
     "data": {
      "image/png": "[encoded data removed]",
      "text/plain": [
       "<Figure size 720x360 with 1 Axes>"
      ]
     },
     "metadata": {
      "needs_background": "light"
     },
     "output_type": "display_data"
    }
   ],
   "source": [
    "#Seu Código aqui...\n",
    "plt.figure(figsize = (10,5))\n",
    "plt.scatter(data['age'], data['cholesterol'])\n",
    "plt.title('IDADE x COLESTEROL', fontsize = 16)\n",
    "plt.xlabel('Idade', fontsize = 14)\n",
    "plt.ylabel('Colesterol', fontsize = 14)\n",
    "plt.show()"
   ]
  },
  {
   "cell_type": "code",
   "execution_count": 169,
   "metadata": {
    "colab": {
     "base_uri": "https://localhost:8080/",
     "height": 356
    },
    "id": "SAWvkDAXuBBF",
    "outputId": "576e9997-b0d1-443c-e8d1-caf6245ad217",
    "scrolled": false
   },
   "outputs": [
    {
     "data": {
      "image/png": "[encoded data removed]",
      "text/plain": [
       "<Figure size 720x360 with 1 Axes>"
      ]
     },
     "metadata": {
      "needs_background": "light"
     },
     "output_type": "display_data"
    }
   ],
   "source": [
    "plt.figure(figsize = (10,5))\n",
    "plt.bar(data['age'], data['cholesterol'])\n",
    "plt.title('IDADE x COLESTEROL', fontsize = 16)\n",
    "plt.xlabel('Idade', fontsize = 14)\n",
    "plt.ylabel('Colesterol', fontsize = 14)\n",
    "plt.show()"
   ]
  },
  {
   "cell_type": "code",
   "execution_count": 170,
   "metadata": {},
   "outputs": [
    {
     "data": {
      "text/plain": [
       "male      217\n",
       "female     37\n",
       "Name: sex, dtype: int64"
      ]
     },
     "execution_count": 170,
     "metadata": {},
     "output_type": "execute_result"
    }
   ],
   "source": [
    "df_fasting_blood_sugar = data.loc[data['fasting blood sugar'] == 1 ]\n",
    "df_fasting_blood_sugar.sex.value_counts()"
   ]
  },
  {
   "cell_type": "code",
   "execution_count": 171,
   "metadata": {
    "colab": {
     "base_uri": "https://localhost:8080/",
     "height": 300
    },
    "id": "aEZh6DD9IIVx",
    "outputId": "47c91201-e8a2-44c8-e62d-b8bfcb4df88d"
   },
   "outputs": [
    {
     "data": {
      "text/html": [
       "<div>\n",
       "<style scoped>\n",
       "    .dataframe tbody tr th:only-of-type {\n",
       "        vertical-align: middle;\n",
       "    }\n",
       "\n",
       "    .dataframe tbody tr th {\n",
       "        vertical-align: top;\n",
       "    }\n",
       "\n",
       "    .dataframe thead th {\n",
       "        text-align: right;\n",
       "    }\n",
       "</style>\n",
       "<table border=\"1\" class=\"dataframe\">\n",
       "  <thead>\n",
       "    <tr style=\"text-align: right;\">\n",
       "      <th></th>\n",
       "      <th>age</th>\n",
       "      <th>chest pain type</th>\n",
       "      <th>resting bp s</th>\n",
       "      <th>cholesterol</th>\n",
       "      <th>fasting blood sugar</th>\n",
       "      <th>resting ecg</th>\n",
       "      <th>max heart rate</th>\n",
       "      <th>oldpeak</th>\n",
       "      <th>ST slope</th>\n",
       "    </tr>\n",
       "  </thead>\n",
       "  <tbody>\n",
       "    <tr>\n",
       "      <th>count</th>\n",
       "      <td>1190.000000</td>\n",
       "      <td>1190.000000</td>\n",
       "      <td>1190.000000</td>\n",
       "      <td>1190.000000</td>\n",
       "      <td>1190.000000</td>\n",
       "      <td>1190.000000</td>\n",
       "      <td>1190.000000</td>\n",
       "      <td>1190.000000</td>\n",
       "      <td>1190.000000</td>\n",
       "    </tr>\n",
       "    <tr>\n",
       "      <th>mean</th>\n",
       "      <td>53.720168</td>\n",
       "      <td>3.232773</td>\n",
       "      <td>132.153782</td>\n",
       "      <td>210.363866</td>\n",
       "      <td>0.213445</td>\n",
       "      <td>0.698319</td>\n",
       "      <td>139.210924</td>\n",
       "      <td>8.418487</td>\n",
       "      <td>1.624370</td>\n",
       "    </tr>\n",
       "    <tr>\n",
       "      <th>std</th>\n",
       "      <td>9.358203</td>\n",
       "      <td>0.935480</td>\n",
       "      <td>18.368823</td>\n",
       "      <td>101.420489</td>\n",
       "      <td>0.409912</td>\n",
       "      <td>0.870359</td>\n",
       "      <td>39.210094</td>\n",
       "      <td>10.539109</td>\n",
       "      <td>0.610459</td>\n",
       "    </tr>\n",
       "    <tr>\n",
       "      <th>min</th>\n",
       "      <td>28.000000</td>\n",
       "      <td>1.000000</td>\n",
       "      <td>0.000000</td>\n",
       "      <td>0.000000</td>\n",
       "      <td>0.000000</td>\n",
       "      <td>0.000000</td>\n",
       "      <td>0.000000</td>\n",
       "      <td>-26.000000</td>\n",
       "      <td>0.000000</td>\n",
       "    </tr>\n",
       "    <tr>\n",
       "      <th>25%</th>\n",
       "      <td>47.000000</td>\n",
       "      <td>3.000000</td>\n",
       "      <td>120.000000</td>\n",
       "      <td>188.000000</td>\n",
       "      <td>0.000000</td>\n",
       "      <td>0.000000</td>\n",
       "      <td>120.000000</td>\n",
       "      <td>0.000000</td>\n",
       "      <td>1.000000</td>\n",
       "    </tr>\n",
       "    <tr>\n",
       "      <th>50%</th>\n",
       "      <td>54.000000</td>\n",
       "      <td>4.000000</td>\n",
       "      <td>130.000000</td>\n",
       "      <td>229.000000</td>\n",
       "      <td>0.000000</td>\n",
       "      <td>0.000000</td>\n",
       "      <td>140.000000</td>\n",
       "      <td>4.000000</td>\n",
       "      <td>2.000000</td>\n",
       "    </tr>\n",
       "    <tr>\n",
       "      <th>75%</th>\n",
       "      <td>60.000000</td>\n",
       "      <td>4.000000</td>\n",
       "      <td>140.000000</td>\n",
       "      <td>269.750000</td>\n",
       "      <td>0.000000</td>\n",
       "      <td>2.000000</td>\n",
       "      <td>160.000000</td>\n",
       "      <td>15.000000</td>\n",
       "      <td>2.000000</td>\n",
       "    </tr>\n",
       "    <tr>\n",
       "      <th>max</th>\n",
       "      <td>77.000000</td>\n",
       "      <td>4.000000</td>\n",
       "      <td>200.000000</td>\n",
       "      <td>603.000000</td>\n",
       "      <td>1.000000</td>\n",
       "      <td>2.000000</td>\n",
       "      <td>1071.000000</td>\n",
       "      <td>62.000000</td>\n",
       "      <td>3.000000</td>\n",
       "    </tr>\n",
       "  </tbody>\n",
       "</table>\n",
       "</div>"
      ],
      "text/plain": [
       "               age  chest pain type  resting bp s  cholesterol  \\\n",
       "count  1190.000000      1190.000000   1190.000000  1190.000000   \n",
       "mean     53.720168         3.232773    132.153782   210.363866   \n",
       "std       9.358203         0.935480     18.368823   101.420489   \n",
       "min      28.000000         1.000000      0.000000     0.000000   \n",
       "25%      47.000000         3.000000    120.000000   188.000000   \n",
       "50%      54.000000         4.000000    130.000000   229.000000   \n",
       "75%      60.000000         4.000000    140.000000   269.750000   \n",
       "max      77.000000         4.000000    200.000000   603.000000   \n",
       "\n",
       "       fasting blood sugar  resting ecg  max heart rate      oldpeak  \\\n",
       "count          1190.000000  1190.000000     1190.000000  1190.000000   \n",
       "mean              0.213445     0.698319      139.210924     8.418487   \n",
       "std               0.409912     0.870359       39.210094    10.539109   \n",
       "min               0.000000     0.000000        0.000000   -26.000000   \n",
       "25%               0.000000     0.000000      120.000000     0.000000   \n",
       "50%               0.000000     0.000000      140.000000     4.000000   \n",
       "75%               0.000000     2.000000      160.000000    15.000000   \n",
       "max               1.000000     2.000000     1071.000000    62.000000   \n",
       "\n",
       "          ST slope  \n",
       "count  1190.000000  \n",
       "mean      1.624370  \n",
       "std       0.610459  \n",
       "min       0.000000  \n",
       "25%       1.000000  \n",
       "50%       2.000000  \n",
       "75%       2.000000  \n",
       "max       3.000000  "
      ]
     },
     "execution_count": 171,
     "metadata": {},
     "output_type": "execute_result"
    }
   ],
   "source": [
    "data.describe()"
   ]
  },
  {
   "cell_type": "code",
   "execution_count": 172,
   "metadata": {
    "colab": {
     "base_uri": "https://localhost:8080/",
     "height": 250
    },
    "id": "hpBqvEgd6RIu",
    "outputId": "1c220369-f208-4348-faa4-ee2882d9202e"
   },
   "outputs": [
    {
     "data": {
      "text/html": [
       "<div>\n",
       "<style scoped>\n",
       "    .dataframe tbody tr th:only-of-type {\n",
       "        vertical-align: middle;\n",
       "    }\n",
       "\n",
       "    .dataframe tbody tr th {\n",
       "        vertical-align: top;\n",
       "    }\n",
       "\n",
       "    .dataframe thead th {\n",
       "        text-align: right;\n",
       "    }\n",
       "</style>\n",
       "<table border=\"1\" class=\"dataframe\">\n",
       "  <thead>\n",
       "    <tr style=\"text-align: right;\">\n",
       "      <th></th>\n",
       "      <th>age</th>\n",
       "      <th>sex</th>\n",
       "      <th>chest pain type</th>\n",
       "      <th>resting bp s</th>\n",
       "      <th>cholesterol</th>\n",
       "      <th>fasting blood sugar</th>\n",
       "      <th>resting ecg</th>\n",
       "      <th>max heart rate</th>\n",
       "      <th>exercise angina</th>\n",
       "      <th>oldpeak</th>\n",
       "      <th>ST slope</th>\n",
       "      <th>class</th>\n",
       "    </tr>\n",
       "  </thead>\n",
       "  <tbody>\n",
       "    <tr>\n",
       "      <th>0</th>\n",
       "      <td>40</td>\n",
       "      <td>male</td>\n",
       "      <td>2</td>\n",
       "      <td>140</td>\n",
       "      <td>289</td>\n",
       "      <td>0</td>\n",
       "      <td>0</td>\n",
       "      <td>172</td>\n",
       "      <td>no</td>\n",
       "      <td>0</td>\n",
       "      <td>1</td>\n",
       "      <td>Normal</td>\n",
       "    </tr>\n",
       "    <tr>\n",
       "      <th>1</th>\n",
       "      <td>49</td>\n",
       "      <td>female</td>\n",
       "      <td>3</td>\n",
       "      <td>160</td>\n",
       "      <td>180</td>\n",
       "      <td>0</td>\n",
       "      <td>0</td>\n",
       "      <td>156</td>\n",
       "      <td>no</td>\n",
       "      <td>10</td>\n",
       "      <td>2</td>\n",
       "      <td>heart disease</td>\n",
       "    </tr>\n",
       "    <tr>\n",
       "      <th>2</th>\n",
       "      <td>37</td>\n",
       "      <td>male</td>\n",
       "      <td>2</td>\n",
       "      <td>130</td>\n",
       "      <td>283</td>\n",
       "      <td>0</td>\n",
       "      <td>1</td>\n",
       "      <td>98</td>\n",
       "      <td>no</td>\n",
       "      <td>0</td>\n",
       "      <td>1</td>\n",
       "      <td>Normal</td>\n",
       "    </tr>\n",
       "    <tr>\n",
       "      <th>3</th>\n",
       "      <td>48</td>\n",
       "      <td>female</td>\n",
       "      <td>4</td>\n",
       "      <td>138</td>\n",
       "      <td>214</td>\n",
       "      <td>0</td>\n",
       "      <td>0</td>\n",
       "      <td>108</td>\n",
       "      <td>yes</td>\n",
       "      <td>15</td>\n",
       "      <td>2</td>\n",
       "      <td>heart disease</td>\n",
       "    </tr>\n",
       "    <tr>\n",
       "      <th>4</th>\n",
       "      <td>54</td>\n",
       "      <td>male</td>\n",
       "      <td>3</td>\n",
       "      <td>150</td>\n",
       "      <td>195</td>\n",
       "      <td>0</td>\n",
       "      <td>0</td>\n",
       "      <td>122</td>\n",
       "      <td>no</td>\n",
       "      <td>0</td>\n",
       "      <td>1</td>\n",
       "      <td>Normal</td>\n",
       "    </tr>\n",
       "  </tbody>\n",
       "</table>\n",
       "</div>"
      ],
      "text/plain": [
       "   age     sex  chest pain type  resting bp s  cholesterol  \\\n",
       "0   40    male                2           140          289   \n",
       "1   49  female                3           160          180   \n",
       "2   37    male                2           130          283   \n",
       "3   48  female                4           138          214   \n",
       "4   54    male                3           150          195   \n",
       "\n",
       "   fasting blood sugar  resting ecg  max heart rate exercise angina  oldpeak  \\\n",
       "0                    0            0             172              no        0   \n",
       "1                    0            0             156              no       10   \n",
       "2                    0            1              98              no        0   \n",
       "3                    0            0             108             yes       15   \n",
       "4                    0            0             122              no        0   \n",
       "\n",
       "   ST slope          class  \n",
       "0         1         Normal  \n",
       "1         2  heart disease  \n",
       "2         1         Normal  \n",
       "3         2  heart disease  \n",
       "4         1         Normal  "
      ]
     },
     "metadata": {},
     "output_type": "display_data"
    }
   ],
   "source": [
    "display(data.head())"
   ]
  },
  {
   "cell_type": "code",
   "execution_count": 173,
   "metadata": {},
   "outputs": [
    {
     "data": {
      "text/html": [
       "<div>\n",
       "<style scoped>\n",
       "    .dataframe tbody tr th:only-of-type {\n",
       "        vertical-align: middle;\n",
       "    }\n",
       "\n",
       "    .dataframe tbody tr th {\n",
       "        vertical-align: top;\n",
       "    }\n",
       "\n",
       "    .dataframe thead th {\n",
       "        text-align: right;\n",
       "    }\n",
       "</style>\n",
       "<table border=\"1\" class=\"dataframe\">\n",
       "  <thead>\n",
       "    <tr style=\"text-align: right;\">\n",
       "      <th></th>\n",
       "      <th>age</th>\n",
       "      <th>sex</th>\n",
       "      <th>chest pain type</th>\n",
       "      <th>resting bp s</th>\n",
       "      <th>cholesterol</th>\n",
       "      <th>fasting blood sugar</th>\n",
       "      <th>resting ecg</th>\n",
       "      <th>max heart rate</th>\n",
       "      <th>exercise angina</th>\n",
       "      <th>oldpeak</th>\n",
       "      <th>ST slope</th>\n",
       "      <th>class</th>\n",
       "    </tr>\n",
       "  </thead>\n",
       "  <tbody>\n",
       "    <tr>\n",
       "      <th>0</th>\n",
       "      <td>40</td>\n",
       "      <td>male</td>\n",
       "      <td>2</td>\n",
       "      <td>140</td>\n",
       "      <td>289</td>\n",
       "      <td>0</td>\n",
       "      <td>0</td>\n",
       "      <td>172</td>\n",
       "      <td>no</td>\n",
       "      <td>0</td>\n",
       "      <td>1</td>\n",
       "      <td>Normal</td>\n",
       "    </tr>\n",
       "    <tr>\n",
       "      <th>2</th>\n",
       "      <td>37</td>\n",
       "      <td>male</td>\n",
       "      <td>2</td>\n",
       "      <td>130</td>\n",
       "      <td>283</td>\n",
       "      <td>0</td>\n",
       "      <td>1</td>\n",
       "      <td>98</td>\n",
       "      <td>no</td>\n",
       "      <td>0</td>\n",
       "      <td>1</td>\n",
       "      <td>Normal</td>\n",
       "    </tr>\n",
       "    <tr>\n",
       "      <th>4</th>\n",
       "      <td>54</td>\n",
       "      <td>male</td>\n",
       "      <td>3</td>\n",
       "      <td>150</td>\n",
       "      <td>195</td>\n",
       "      <td>0</td>\n",
       "      <td>0</td>\n",
       "      <td>122</td>\n",
       "      <td>no</td>\n",
       "      <td>0</td>\n",
       "      <td>1</td>\n",
       "      <td>Normal</td>\n",
       "    </tr>\n",
       "    <tr>\n",
       "      <th>5</th>\n",
       "      <td>39</td>\n",
       "      <td>male</td>\n",
       "      <td>3</td>\n",
       "      <td>120</td>\n",
       "      <td>339</td>\n",
       "      <td>0</td>\n",
       "      <td>0</td>\n",
       "      <td>170</td>\n",
       "      <td>no</td>\n",
       "      <td>0</td>\n",
       "      <td>1</td>\n",
       "      <td>Normal</td>\n",
       "    </tr>\n",
       "    <tr>\n",
       "      <th>6</th>\n",
       "      <td>45</td>\n",
       "      <td>female</td>\n",
       "      <td>2</td>\n",
       "      <td>130</td>\n",
       "      <td>237</td>\n",
       "      <td>0</td>\n",
       "      <td>0</td>\n",
       "      <td>170</td>\n",
       "      <td>no</td>\n",
       "      <td>0</td>\n",
       "      <td>1</td>\n",
       "      <td>Normal</td>\n",
       "    </tr>\n",
       "  </tbody>\n",
       "</table>\n",
       "</div>"
      ],
      "text/plain": [
       "   age     sex  chest pain type  resting bp s  cholesterol  \\\n",
       "0   40    male                2           140          289   \n",
       "2   37    male                2           130          283   \n",
       "4   54    male                3           150          195   \n",
       "5   39    male                3           120          339   \n",
       "6   45  female                2           130          237   \n",
       "\n",
       "   fasting blood sugar  resting ecg  max heart rate exercise angina  oldpeak  \\\n",
       "0                    0            0             172              no        0   \n",
       "2                    0            1              98              no        0   \n",
       "4                    0            0             122              no        0   \n",
       "5                    0            0             170              no        0   \n",
       "6                    0            0             170              no        0   \n",
       "\n",
       "   ST slope   class  \n",
       "0         1  Normal  \n",
       "2         1  Normal  \n",
       "4         1  Normal  \n",
       "5         1  Normal  \n",
       "6         1  Normal  "
      ]
     },
     "execution_count": 173,
     "metadata": {},
     "output_type": "execute_result"
    }
   ],
   "source": [
    "data.loc[data['class'] == 'Normal'].head() "
   ]
  },
  {
   "cell_type": "code",
   "execution_count": 174,
   "metadata": {
    "scrolled": true
   },
   "outputs": [
    {
     "data": {
      "text/html": [
       "<div>\n",
       "<style scoped>\n",
       "    .dataframe tbody tr th:only-of-type {\n",
       "        vertical-align: middle;\n",
       "    }\n",
       "\n",
       "    .dataframe tbody tr th {\n",
       "        vertical-align: top;\n",
       "    }\n",
       "\n",
       "    .dataframe thead th {\n",
       "        text-align: right;\n",
       "    }\n",
       "</style>\n",
       "<table border=\"1\" class=\"dataframe\">\n",
       "  <thead>\n",
       "    <tr style=\"text-align: right;\">\n",
       "      <th></th>\n",
       "      <th>age</th>\n",
       "      <th>sex</th>\n",
       "      <th>chest pain type</th>\n",
       "      <th>resting bp s</th>\n",
       "      <th>cholesterol</th>\n",
       "      <th>fasting blood sugar</th>\n",
       "      <th>resting ecg</th>\n",
       "      <th>max heart rate</th>\n",
       "      <th>exercise angina</th>\n",
       "      <th>oldpeak</th>\n",
       "      <th>ST slope</th>\n",
       "      <th>class</th>\n",
       "    </tr>\n",
       "  </thead>\n",
       "  <tbody>\n",
       "    <tr>\n",
       "      <th>1</th>\n",
       "      <td>49</td>\n",
       "      <td>female</td>\n",
       "      <td>3</td>\n",
       "      <td>160</td>\n",
       "      <td>180</td>\n",
       "      <td>0</td>\n",
       "      <td>0</td>\n",
       "      <td>156</td>\n",
       "      <td>no</td>\n",
       "      <td>10</td>\n",
       "      <td>2</td>\n",
       "      <td>heart disease</td>\n",
       "    </tr>\n",
       "    <tr>\n",
       "      <th>3</th>\n",
       "      <td>48</td>\n",
       "      <td>female</td>\n",
       "      <td>4</td>\n",
       "      <td>138</td>\n",
       "      <td>214</td>\n",
       "      <td>0</td>\n",
       "      <td>0</td>\n",
       "      <td>108</td>\n",
       "      <td>yes</td>\n",
       "      <td>15</td>\n",
       "      <td>2</td>\n",
       "      <td>heart disease</td>\n",
       "    </tr>\n",
       "    <tr>\n",
       "      <th>8</th>\n",
       "      <td>37</td>\n",
       "      <td>male</td>\n",
       "      <td>4</td>\n",
       "      <td>140</td>\n",
       "      <td>207</td>\n",
       "      <td>0</td>\n",
       "      <td>0</td>\n",
       "      <td>130</td>\n",
       "      <td>yes</td>\n",
       "      <td>15</td>\n",
       "      <td>2</td>\n",
       "      <td>heart disease</td>\n",
       "    </tr>\n",
       "    <tr>\n",
       "      <th>11</th>\n",
       "      <td>58</td>\n",
       "      <td>male</td>\n",
       "      <td>2</td>\n",
       "      <td>136</td>\n",
       "      <td>164</td>\n",
       "      <td>0</td>\n",
       "      <td>1</td>\n",
       "      <td>99</td>\n",
       "      <td>yes</td>\n",
       "      <td>20</td>\n",
       "      <td>2</td>\n",
       "      <td>heart disease</td>\n",
       "    </tr>\n",
       "    <tr>\n",
       "      <th>13</th>\n",
       "      <td>49</td>\n",
       "      <td>male</td>\n",
       "      <td>4</td>\n",
       "      <td>140</td>\n",
       "      <td>234</td>\n",
       "      <td>0</td>\n",
       "      <td>0</td>\n",
       "      <td>140</td>\n",
       "      <td>yes</td>\n",
       "      <td>10</td>\n",
       "      <td>2</td>\n",
       "      <td>heart disease</td>\n",
       "    </tr>\n",
       "  </tbody>\n",
       "</table>\n",
       "</div>"
      ],
      "text/plain": [
       "    age     sex  chest pain type  resting bp s  cholesterol  \\\n",
       "1    49  female                3           160          180   \n",
       "3    48  female                4           138          214   \n",
       "8    37    male                4           140          207   \n",
       "11   58    male                2           136          164   \n",
       "13   49    male                4           140          234   \n",
       "\n",
       "    fasting blood sugar  resting ecg  max heart rate exercise angina  oldpeak  \\\n",
       "1                     0            0             156              no       10   \n",
       "3                     0            0             108             yes       15   \n",
       "8                     0            0             130             yes       15   \n",
       "11                    0            1              99             yes       20   \n",
       "13                    0            0             140             yes       10   \n",
       "\n",
       "    ST slope          class  \n",
       "1          2  heart disease  \n",
       "3          2  heart disease  \n",
       "8          2  heart disease  \n",
       "11         2  heart disease  \n",
       "13         2  heart disease  "
      ]
     },
     "execution_count": 174,
     "metadata": {},
     "output_type": "execute_result"
    }
   ],
   "source": [
    "data.loc[data['class'] == 'heart disease'].head() "
   ]
  },
  {
   "cell_type": "code",
   "execution_count": 175,
   "metadata": {},
   "outputs": [
    {
     "data": {
      "text/plain": [
       "male      559\n",
       "female     70\n",
       "Name: sex, dtype: int64"
      ]
     },
     "execution_count": 175,
     "metadata": {},
     "output_type": "execute_result"
    }
   ],
   "source": [
    "df_heart_disease = data.loc[data['class'] == 'heart disease']\n",
    "df_heart_disease.sex.value_counts()"
   ]
  },
  {
   "cell_type": "markdown",
   "metadata": {
    "id": "9YhSr2itxNEm"
   },
   "source": [
    "**Perguntas:** \n",
    "\n",
    "1. Qual a relação entre a idade e colesterol?\n",
    "2. O indice açucar no sangue > 120 mg/dl é mais frequênte em homens ou mulheres?\n",
    "3. Qual a distribuição de idade do dataset?\n",
    "4. Pessoas com presença de doença cardiaca são em sua maioria do grupo masculino ou feminino? "
   ]
  },
  {
   "cell_type": "markdown",
   "metadata": {
    "id": "d-1CXYUFuBBG"
   },
   "source": [
    "**Respostas:**\n",
    "\n",
    "Lembre-se de relacionar sua resposta com os dados. Elabore análises gráficas para te auxiliar.\n",
    "\n",
    "1. Colesterol alto é mais frequente entre 50 e 60 anos, conforme o gráfico feito acima.\n",
    "2. Em homens, com 217 registros.\n",
    "3. Em maioria, pessoas entre os 30 e 70 anos.\n",
    "4. Masculino, com 559 registros."
   ]
  },
  {
   "cell_type": "markdown",
   "metadata": {
    "id": "aGZ1CqnduBBH"
   },
   "source": [
    "## 2. Preparação dos Dados\n",
    "\n",
    "**Lembre-se:** Trate esses dados dentro do contexto do problema. ``Justifique suas escolhas``."
   ]
  },
  {
   "cell_type": "markdown",
   "metadata": {
    "id": "rQ1ah85UuBBH"
   },
   "source": [
    "### Análise de valores inválidos\n",
    "\n",
    "Faça a análise de dados ausente, dados nulos e dados iguais a 0(zero)."
   ]
  },
  {
   "cell_type": "code",
   "execution_count": 176,
   "metadata": {
    "colab": {
     "base_uri": "https://localhost:8080/"
    },
    "id": "PyGJT7cAuBBH",
    "outputId": "cb5e89d5-d91a-4845-8330-365f734cdde2"
   },
   "outputs": [
    {
     "name": "stdout",
     "output_type": "stream",
     "text": [
      "<class 'pandas.core.frame.DataFrame'>\n",
      "RangeIndex: 1190 entries, 0 to 1189\n",
      "Data columns (total 12 columns):\n",
      " #   Column               Non-Null Count  Dtype \n",
      "---  ------               --------------  ----- \n",
      " 0   age                  1190 non-null   int64 \n",
      " 1   sex                  1190 non-null   object\n",
      " 2   chest pain type      1190 non-null   int64 \n",
      " 3   resting bp s         1190 non-null   int64 \n",
      " 4   cholesterol          1190 non-null   int64 \n",
      " 5   fasting blood sugar  1190 non-null   int64 \n",
      " 6   resting ecg          1190 non-null   int64 \n",
      " 7   max heart rate       1190 non-null   int64 \n",
      " 8   exercise angina      1190 non-null   object\n",
      " 9   oldpeak              1190 non-null   int64 \n",
      " 10  ST slope             1190 non-null   int64 \n",
      " 11  class                1190 non-null   object\n",
      "dtypes: int64(9), object(3)\n",
      "memory usage: 111.7+ KB\n"
     ]
    }
   ],
   "source": [
    "#Seu Código aqui...\n",
    "data.info()"
   ]
  },
  {
   "cell_type": "markdown",
   "metadata": {
    "id": "t2uuxrB-uBBH"
   },
   "source": [
    "**Pergunta:** Foram localizados dados ausente, dados nulos e dados iguais a 0(zero)? Se existe, como foram tratados (removidos ou mantidos ou substituidos ou ....)? "
   ]
  },
  {
   "cell_type": "markdown",
   "metadata": {
    "id": "8i1A2RMnuBBI"
   },
   "source": [
    "**Resposta:**\n",
    "\n",
    "Não foram localizados dados nulos ou ausentes. Foram mantidos os dados iguais a 0, por serem valores binários/true/false."
   ]
  },
  {
   "cell_type": "markdown",
   "metadata": {
    "id": "ioyNH1IpuBBI"
   },
   "source": [
    "### Análise de Outliers\n",
    "\n",
    "Faça a análise de outliers."
   ]
  },
  {
   "cell_type": "code",
   "execution_count": 177,
   "metadata": {
    "colab": {
     "base_uri": "https://localhost:8080/",
     "height": 428
    },
    "id": "Z7Qt76fcKWaS",
    "outputId": "88781094-565e-4565-a317-632de6aa67ab"
   },
   "outputs": [
    {
     "data": {
      "image/png": "[encoded data removed]",
      "text/plain": [
       "<Figure size 1080x504 with 1 Axes>"
      ]
     },
     "metadata": {
      "needs_background": "light"
     },
     "output_type": "display_data"
    }
   ],
   "source": [
    "plt.figure(figsize = (15,7))\n",
    "data.boxplot()\n",
    "plt.show()"
   ]
  },
  {
   "cell_type": "code",
   "execution_count": 178,
   "metadata": {
    "colab": {
     "base_uri": "https://localhost:8080/",
     "height": 331
    },
    "id": "BKINUvHGuBBI",
    "outputId": "1d349813-35d6-488f-a658-da6ffbfbd081"
   },
   "outputs": [
    {
     "name": "stdout",
     "output_type": "stream",
     "text": [
      "[0, 0, 0, 0, 0, 0, 60, 0, 1071, 0, 0, 0]\n",
      "12\n",
      "1.0084033613445378\n"
     ]
    },
    {
     "data": {
      "image/png": "[encoded data removed]",
      "text/plain": [
       "<Figure size 432x288 with 1 Axes>"
      ]
     },
     "metadata": {
      "needs_background": "light"
     },
     "output_type": "display_data"
    }
   ],
   "source": [
    "#Seu Código aqui...\n",
    "\n",
    "data.plot.scatter('age', 'max heart rate')\n",
    "#IDENTIFICANDO OUTLIERS \n",
    "import statistics\n",
    "outliers = []\n",
    "\n",
    "desv_pad = statistics.stdev(data['max heart rate'])\n",
    "\n",
    "# média dos dados\n",
    "media = statistics.mean(data['max heart rate'])\n",
    "\n",
    "# coloca o limite que determina se é outlier\n",
    "limite = desv_pad * 2\n",
    "\n",
    "limite_inferior = media - limite\n",
    "limite_superior = media + limite\n",
    "\n",
    "# Localiza outliers e anexa à nossa lista que iniciamos sem nada\n",
    "for outlier in data['max heart rate']:\n",
    "    if outlier > limite_superior or outlier < limite_inferior:\n",
    "        outliers.append(outlier)\n",
    "\n",
    "# exibe a lista com os outliers\n",
    "print(outliers)\n",
    "\n",
    "# conta quantos elementos são outliers\n",
    "print(len(outliers))\n",
    "\n",
    "# percentual da coluna que é outlier\n",
    "percentual_out = len(outliers)/len(data['max heart rate'])*100\n",
    "print(percentual_out) \n"
   ]
  },
  {
   "cell_type": "markdown",
   "metadata": {
    "id": "gUIX0quEuBBJ"
   },
   "source": [
    "**Pergunta:** Foram localizados outliers? Se existe, como os dados foram tratados (removidos ou mantidos)? "
   ]
  },
  {
   "cell_type": "markdown",
   "metadata": {
    "id": "akWbJo6HuBBJ"
   },
   "source": [
    "**Resposta:**\n",
    "\n",
    "Como visto no gráfico acima, um paciente tece 'max heart rate' acima de 1000.  Após feito o desvio padrão, foi verificado que 1% da coluna 'max heart rate' possuiu outliers.\n",
    "\n",
    "- É possível verificar a existência de outliers na maioria das colunas."
   ]
  },
  {
   "cell_type": "markdown",
   "metadata": {
    "id": "2-SacRE5uBBJ"
   },
   "source": [
    "### Tratamento de dados Paramétricos\n",
    "\n",
    "Faça o tratamento dos atributos categoricos, se existir. Manipule de forma conveniente para ser interpretado como um dado numérico."
   ]
  },
  {
   "cell_type": "code",
   "execution_count": 179,
   "metadata": {
    "colab": {
     "base_uri": "https://localhost:8080/",
     "height": 250
    },
    "id": "iIzUJ6rWuBBJ",
    "outputId": "934ec901-5587-4378-af3a-2a2c13b25f54",
    "scrolled": false
   },
   "outputs": [
    {
     "data": {
      "text/html": [
       "<div>\n",
       "<style scoped>\n",
       "    .dataframe tbody tr th:only-of-type {\n",
       "        vertical-align: middle;\n",
       "    }\n",
       "\n",
       "    .dataframe tbody tr th {\n",
       "        vertical-align: top;\n",
       "    }\n",
       "\n",
       "    .dataframe thead th {\n",
       "        text-align: right;\n",
       "    }\n",
       "</style>\n",
       "<table border=\"1\" class=\"dataframe\">\n",
       "  <thead>\n",
       "    <tr style=\"text-align: right;\">\n",
       "      <th></th>\n",
       "      <th>age</th>\n",
       "      <th>sex</th>\n",
       "      <th>chest pain type</th>\n",
       "      <th>resting bp s</th>\n",
       "      <th>cholesterol</th>\n",
       "      <th>fasting blood sugar</th>\n",
       "      <th>resting ecg</th>\n",
       "      <th>max heart rate</th>\n",
       "      <th>exercise angina</th>\n",
       "      <th>oldpeak</th>\n",
       "      <th>ST slope</th>\n",
       "      <th>class</th>\n",
       "    </tr>\n",
       "  </thead>\n",
       "  <tbody>\n",
       "    <tr>\n",
       "      <th>0</th>\n",
       "      <td>40</td>\n",
       "      <td>male</td>\n",
       "      <td>2</td>\n",
       "      <td>140</td>\n",
       "      <td>289</td>\n",
       "      <td>0</td>\n",
       "      <td>0</td>\n",
       "      <td>172</td>\n",
       "      <td>no</td>\n",
       "      <td>0</td>\n",
       "      <td>1</td>\n",
       "      <td>Normal</td>\n",
       "    </tr>\n",
       "    <tr>\n",
       "      <th>1</th>\n",
       "      <td>49</td>\n",
       "      <td>female</td>\n",
       "      <td>3</td>\n",
       "      <td>160</td>\n",
       "      <td>180</td>\n",
       "      <td>0</td>\n",
       "      <td>0</td>\n",
       "      <td>156</td>\n",
       "      <td>no</td>\n",
       "      <td>10</td>\n",
       "      <td>2</td>\n",
       "      <td>heart disease</td>\n",
       "    </tr>\n",
       "    <tr>\n",
       "      <th>2</th>\n",
       "      <td>37</td>\n",
       "      <td>male</td>\n",
       "      <td>2</td>\n",
       "      <td>130</td>\n",
       "      <td>283</td>\n",
       "      <td>0</td>\n",
       "      <td>1</td>\n",
       "      <td>98</td>\n",
       "      <td>no</td>\n",
       "      <td>0</td>\n",
       "      <td>1</td>\n",
       "      <td>Normal</td>\n",
       "    </tr>\n",
       "    <tr>\n",
       "      <th>3</th>\n",
       "      <td>48</td>\n",
       "      <td>female</td>\n",
       "      <td>4</td>\n",
       "      <td>138</td>\n",
       "      <td>214</td>\n",
       "      <td>0</td>\n",
       "      <td>0</td>\n",
       "      <td>108</td>\n",
       "      <td>yes</td>\n",
       "      <td>15</td>\n",
       "      <td>2</td>\n",
       "      <td>heart disease</td>\n",
       "    </tr>\n",
       "    <tr>\n",
       "      <th>4</th>\n",
       "      <td>54</td>\n",
       "      <td>male</td>\n",
       "      <td>3</td>\n",
       "      <td>150</td>\n",
       "      <td>195</td>\n",
       "      <td>0</td>\n",
       "      <td>0</td>\n",
       "      <td>122</td>\n",
       "      <td>no</td>\n",
       "      <td>0</td>\n",
       "      <td>1</td>\n",
       "      <td>Normal</td>\n",
       "    </tr>\n",
       "  </tbody>\n",
       "</table>\n",
       "</div>"
      ],
      "text/plain": [
       "   age     sex  chest pain type  resting bp s  cholesterol  \\\n",
       "0   40    male                2           140          289   \n",
       "1   49  female                3           160          180   \n",
       "2   37    male                2           130          283   \n",
       "3   48  female                4           138          214   \n",
       "4   54    male                3           150          195   \n",
       "\n",
       "   fasting blood sugar  resting ecg  max heart rate exercise angina  oldpeak  \\\n",
       "0                    0            0             172              no        0   \n",
       "1                    0            0             156              no       10   \n",
       "2                    0            1              98              no        0   \n",
       "3                    0            0             108             yes       15   \n",
       "4                    0            0             122              no        0   \n",
       "\n",
       "   ST slope          class  \n",
       "0         1         Normal  \n",
       "1         2  heart disease  \n",
       "2         1         Normal  \n",
       "3         2  heart disease  \n",
       "4         1         Normal  "
      ]
     },
     "execution_count": 179,
     "metadata": {},
     "output_type": "execute_result"
    }
   ],
   "source": [
    "#Seu Código aqui...\n",
    "import sklearn\n",
    "data.head()\n",
    "\n",
    "#male = 0, female = 1\n",
    "#class - normal = 0, heart disease =1\n",
    "#exercise angina - no = 0, yes = 1"
   ]
  },
  {
   "cell_type": "markdown",
   "metadata": {
    "id": "Yg0huJTLuBBL"
   },
   "source": [
    "**Pergunta:** Quais são os atributos categoricos? Qual foi a técnica de preprocessamento utilizada? "
   ]
  },
  {
   "cell_type": "markdown",
   "metadata": {
    "id": "wvDwV8WjuBBL"
   },
   "source": [
    "**Resposta:**\n",
    "\n",
    "\n",
    "Os atributos categóricos são sex, class e exercise angina.\n",
    "- Foi usado o método Get_Dummies do pacote Pandas para transformar dados categóricos em valores binários por meio de novas colunas."
   ]
  },
  {
   "cell_type": "markdown",
   "metadata": {
    "id": "8C62MKDDuBBL"
   },
   "source": [
    "### Normalização dos dados\n",
    "\n",
    "Faça a manipulação adequada para normalizar os dados, se necessário."
   ]
  },
  {
   "cell_type": "markdown",
   "metadata": {
    "id": "cseNM_ohuBBO"
   },
   "source": [
    "#### Definição de X e Y\n",
    "\n",
    "Separe os subsets dos atributos em Y e X :\n",
    "\n",
    "- Y = atributo dependente (alvo)\n",
    "- X = Atributo independente (entradas)"
   ]
  },
  {
   "cell_type": "code",
   "execution_count": 180,
   "metadata": {
    "colab": {
     "base_uri": "https://localhost:8080/",
     "height": 206
    },
    "id": "K--Zs2TtO02J",
    "outputId": "74a8d636-78a9-4845-cae6-13cd90b151cb"
   },
   "outputs": [
    {
     "data": {
      "text/html": [
       "<div>\n",
       "<style scoped>\n",
       "    .dataframe tbody tr th:only-of-type {\n",
       "        vertical-align: middle;\n",
       "    }\n",
       "\n",
       "    .dataframe tbody tr th {\n",
       "        vertical-align: top;\n",
       "    }\n",
       "\n",
       "    .dataframe thead th {\n",
       "        text-align: right;\n",
       "    }\n",
       "</style>\n",
       "<table border=\"1\" class=\"dataframe\">\n",
       "  <thead>\n",
       "    <tr style=\"text-align: right;\">\n",
       "      <th></th>\n",
       "      <th>age</th>\n",
       "      <th>sex</th>\n",
       "      <th>chest pain type</th>\n",
       "      <th>resting bp s</th>\n",
       "      <th>cholesterol</th>\n",
       "      <th>fasting blood sugar</th>\n",
       "      <th>resting ecg</th>\n",
       "      <th>max heart rate</th>\n",
       "      <th>exercise angina</th>\n",
       "      <th>oldpeak</th>\n",
       "      <th>ST slope</th>\n",
       "    </tr>\n",
       "  </thead>\n",
       "  <tbody>\n",
       "    <tr>\n",
       "      <th>0</th>\n",
       "      <td>40</td>\n",
       "      <td>male</td>\n",
       "      <td>2</td>\n",
       "      <td>140</td>\n",
       "      <td>289</td>\n",
       "      <td>0</td>\n",
       "      <td>0</td>\n",
       "      <td>172</td>\n",
       "      <td>no</td>\n",
       "      <td>0</td>\n",
       "      <td>1</td>\n",
       "    </tr>\n",
       "    <tr>\n",
       "      <th>1</th>\n",
       "      <td>49</td>\n",
       "      <td>female</td>\n",
       "      <td>3</td>\n",
       "      <td>160</td>\n",
       "      <td>180</td>\n",
       "      <td>0</td>\n",
       "      <td>0</td>\n",
       "      <td>156</td>\n",
       "      <td>no</td>\n",
       "      <td>10</td>\n",
       "      <td>2</td>\n",
       "    </tr>\n",
       "    <tr>\n",
       "      <th>2</th>\n",
       "      <td>37</td>\n",
       "      <td>male</td>\n",
       "      <td>2</td>\n",
       "      <td>130</td>\n",
       "      <td>283</td>\n",
       "      <td>0</td>\n",
       "      <td>1</td>\n",
       "      <td>98</td>\n",
       "      <td>no</td>\n",
       "      <td>0</td>\n",
       "      <td>1</td>\n",
       "    </tr>\n",
       "    <tr>\n",
       "      <th>3</th>\n",
       "      <td>48</td>\n",
       "      <td>female</td>\n",
       "      <td>4</td>\n",
       "      <td>138</td>\n",
       "      <td>214</td>\n",
       "      <td>0</td>\n",
       "      <td>0</td>\n",
       "      <td>108</td>\n",
       "      <td>yes</td>\n",
       "      <td>15</td>\n",
       "      <td>2</td>\n",
       "    </tr>\n",
       "    <tr>\n",
       "      <th>4</th>\n",
       "      <td>54</td>\n",
       "      <td>male</td>\n",
       "      <td>3</td>\n",
       "      <td>150</td>\n",
       "      <td>195</td>\n",
       "      <td>0</td>\n",
       "      <td>0</td>\n",
       "      <td>122</td>\n",
       "      <td>no</td>\n",
       "      <td>0</td>\n",
       "      <td>1</td>\n",
       "    </tr>\n",
       "  </tbody>\n",
       "</table>\n",
       "</div>"
      ],
      "text/plain": [
       "   age     sex  chest pain type  resting bp s  cholesterol  \\\n",
       "0   40    male                2           140          289   \n",
       "1   49  female                3           160          180   \n",
       "2   37    male                2           130          283   \n",
       "3   48  female                4           138          214   \n",
       "4   54    male                3           150          195   \n",
       "\n",
       "   fasting blood sugar  resting ecg  max heart rate exercise angina  oldpeak  \\\n",
       "0                    0            0             172              no        0   \n",
       "1                    0            0             156              no       10   \n",
       "2                    0            1              98              no        0   \n",
       "3                    0            0             108             yes       15   \n",
       "4                    0            0             122              no        0   \n",
       "\n",
       "   ST slope  \n",
       "0         1  \n",
       "1         2  \n",
       "2         1  \n",
       "3         2  \n",
       "4         1  "
      ]
     },
     "metadata": {},
     "output_type": "display_data"
    }
   ],
   "source": [
    "X = data[['age', 'sex', 'chest pain type', 'resting bp s', 'cholesterol',\n",
    "       'fasting blood sugar', 'resting ecg', 'max heart rate',\n",
    "       'exercise angina', 'oldpeak', 'ST slope']]\n",
    "display(X.head())"
   ]
  },
  {
   "cell_type": "code",
   "execution_count": 181,
   "metadata": {
    "colab": {
     "base_uri": "https://localhost:8080/",
     "height": 121
    },
    "id": "QjWbEMUrO10x",
    "outputId": "c7c36265-96d5-42d5-e0dd-cf7afdac8c69"
   },
   "outputs": [
    {
     "data": {
      "text/plain": [
       "0           Normal\n",
       "1    heart disease\n",
       "2           Normal\n",
       "3    heart disease\n",
       "4           Normal\n",
       "Name: class, dtype: object"
      ]
     },
     "metadata": {},
     "output_type": "display_data"
    }
   ],
   "source": [
    "y = data['class']\n",
    "display(y.head())"
   ]
  },
  {
   "cell_type": "markdown",
   "metadata": {
    "id": "bVQ9YlI0RC_0"
   },
   "source": [
    "- Método Dummies"
   ]
  },
  {
   "cell_type": "code",
   "execution_count": 182,
   "metadata": {
    "colab": {
     "base_uri": "https://localhost:8080/",
     "height": 268
    },
    "id": "m3ORHCiWO_iz",
    "outputId": "1686d9fb-f898-4055-952c-0b9b51f6c076"
   },
   "outputs": [
    {
     "data": {
      "text/html": [
       "<div>\n",
       "<style scoped>\n",
       "    .dataframe tbody tr th:only-of-type {\n",
       "        vertical-align: middle;\n",
       "    }\n",
       "\n",
       "    .dataframe tbody tr th {\n",
       "        vertical-align: top;\n",
       "    }\n",
       "\n",
       "    .dataframe thead th {\n",
       "        text-align: right;\n",
       "    }\n",
       "</style>\n",
       "<table border=\"1\" class=\"dataframe\">\n",
       "  <thead>\n",
       "    <tr style=\"text-align: right;\">\n",
       "      <th></th>\n",
       "      <th>age</th>\n",
       "      <th>chest pain type</th>\n",
       "      <th>resting bp s</th>\n",
       "      <th>cholesterol</th>\n",
       "      <th>fasting blood sugar</th>\n",
       "      <th>resting ecg</th>\n",
       "      <th>max heart rate</th>\n",
       "      <th>oldpeak</th>\n",
       "      <th>ST slope</th>\n",
       "      <th>sex_female</th>\n",
       "      <th>sex_male</th>\n",
       "      <th>exercise angina_no</th>\n",
       "      <th>exercise angina_yes</th>\n",
       "    </tr>\n",
       "  </thead>\n",
       "  <tbody>\n",
       "    <tr>\n",
       "      <th>0</th>\n",
       "      <td>40</td>\n",
       "      <td>2</td>\n",
       "      <td>140</td>\n",
       "      <td>289</td>\n",
       "      <td>0</td>\n",
       "      <td>0</td>\n",
       "      <td>172</td>\n",
       "      <td>0</td>\n",
       "      <td>1</td>\n",
       "      <td>0</td>\n",
       "      <td>1</td>\n",
       "      <td>1</td>\n",
       "      <td>0</td>\n",
       "    </tr>\n",
       "    <tr>\n",
       "      <th>1</th>\n",
       "      <td>49</td>\n",
       "      <td>3</td>\n",
       "      <td>160</td>\n",
       "      <td>180</td>\n",
       "      <td>0</td>\n",
       "      <td>0</td>\n",
       "      <td>156</td>\n",
       "      <td>10</td>\n",
       "      <td>2</td>\n",
       "      <td>1</td>\n",
       "      <td>0</td>\n",
       "      <td>1</td>\n",
       "      <td>0</td>\n",
       "    </tr>\n",
       "    <tr>\n",
       "      <th>2</th>\n",
       "      <td>37</td>\n",
       "      <td>2</td>\n",
       "      <td>130</td>\n",
       "      <td>283</td>\n",
       "      <td>0</td>\n",
       "      <td>1</td>\n",
       "      <td>98</td>\n",
       "      <td>0</td>\n",
       "      <td>1</td>\n",
       "      <td>0</td>\n",
       "      <td>1</td>\n",
       "      <td>1</td>\n",
       "      <td>0</td>\n",
       "    </tr>\n",
       "    <tr>\n",
       "      <th>3</th>\n",
       "      <td>48</td>\n",
       "      <td>4</td>\n",
       "      <td>138</td>\n",
       "      <td>214</td>\n",
       "      <td>0</td>\n",
       "      <td>0</td>\n",
       "      <td>108</td>\n",
       "      <td>15</td>\n",
       "      <td>2</td>\n",
       "      <td>1</td>\n",
       "      <td>0</td>\n",
       "      <td>0</td>\n",
       "      <td>1</td>\n",
       "    </tr>\n",
       "    <tr>\n",
       "      <th>4</th>\n",
       "      <td>54</td>\n",
       "      <td>3</td>\n",
       "      <td>150</td>\n",
       "      <td>195</td>\n",
       "      <td>0</td>\n",
       "      <td>0</td>\n",
       "      <td>122</td>\n",
       "      <td>0</td>\n",
       "      <td>1</td>\n",
       "      <td>0</td>\n",
       "      <td>1</td>\n",
       "      <td>1</td>\n",
       "      <td>0</td>\n",
       "    </tr>\n",
       "  </tbody>\n",
       "</table>\n",
       "</div>"
      ],
      "text/plain": [
       "   age  chest pain type  resting bp s  cholesterol  fasting blood sugar  \\\n",
       "0   40                2           140          289                    0   \n",
       "1   49                3           160          180                    0   \n",
       "2   37                2           130          283                    0   \n",
       "3   48                4           138          214                    0   \n",
       "4   54                3           150          195                    0   \n",
       "\n",
       "   resting ecg  max heart rate  oldpeak  ST slope  sex_female  sex_male  \\\n",
       "0            0             172        0         1           0         1   \n",
       "1            0             156       10         2           1         0   \n",
       "2            1              98        0         1           0         1   \n",
       "3            0             108       15         2           1         0   \n",
       "4            0             122        0         1           0         1   \n",
       "\n",
       "   exercise angina_no  exercise angina_yes  \n",
       "0                   1                    0  \n",
       "1                   1                    0  \n",
       "2                   1                    0  \n",
       "3                   0                    1  \n",
       "4                   1                    0  "
      ]
     },
     "metadata": {},
     "output_type": "display_data"
    }
   ],
   "source": [
    "X_dummies = pd.get_dummies(X)\n",
    "display(X_dummies.head())"
   ]
  },
  {
   "cell_type": "code",
   "execution_count": 183,
   "metadata": {
    "colab": {
     "base_uri": "https://localhost:8080/",
     "height": 243
    },
    "id": "9o0KNHHeuBBL",
    "outputId": "09c84fe4-f5e2-426e-bac1-57769c232bf8"
   },
   "outputs": [
    {
     "data": {
      "text/plain": [
       "array([[0.10914468, 0.00545723, 0.38200639, ..., 0.00272862, 0.00272862,\n",
       "        0.        ],\n",
       "       [0.16821512, 0.01029889, 0.54927387, ..., 0.        , 0.00343296,\n",
       "        0.        ],\n",
       "       [0.11260305, 0.00608665, 0.39563236, ..., 0.00304333, 0.00304333,\n",
       "        0.        ],\n",
       "       ...,\n",
       "       [0.25314339, 0.01776445, 0.57734458, ..., 0.00444111, 0.        ,\n",
       "        0.00444111],\n",
       "       [0.17496273, 0.00613904, 0.3990378 , ..., 0.        , 0.00306952,\n",
       "        0.        ],\n",
       "       [0.13347391, 0.01053741, 0.48472103, ..., 0.00351247, 0.00351247,\n",
       "        0.        ]])"
      ]
     },
     "metadata": {},
     "output_type": "display_data"
    }
   ],
   "source": [
    "#Seu Código aqui...\n",
    "from sklearn.preprocessing import normalize\n",
    "X_norm = normalize(X_dummies)\n",
    "display(X_norm)"
   ]
  },
  {
   "cell_type": "markdown",
   "metadata": {
    "id": "OpAYIQaauBBM"
   },
   "source": [
    "**Pergunta:** Os dados foram normalizados? Qual foi a técnica de preprocessamento utilizada? "
   ]
  },
  {
   "cell_type": "markdown",
   "metadata": {
    "id": "WKBF6_jpuBBM"
   },
   "source": [
    "**Resposta:**\n",
    "\n",
    "Os dados foram normalizados de forma a padronizar os valores entre 0 e 1 para melhor processamento do modelo de ML, utilizando o método \"normalize\" do pacote \"sklearn.preprocessing\"."
   ]
  },
  {
   "cell_type": "markdown",
   "metadata": {
    "id": "UGPbsvjauBBM"
   },
   "source": [
    "## 3. Desenvolvimento do Modelo"
   ]
  },
  {
   "cell_type": "markdown",
   "metadata": {
    "id": "FwFCQ3HMuBBM"
   },
   "source": [
    "**Pergunta:** O conjunto de dados indica a aplicação de qual modelo de aprendizagem de maquina? "
   ]
  },
  {
   "cell_type": "markdown",
   "metadata": {
    "id": "PsOgqM0guBBM"
   },
   "source": [
    "**Resposta:**\n",
    "\n",
    "    [ ] Aprendizado por reforço\n",
    "    [X] Aprendizado supervisionado\n",
    "    [ ] Aprendizado não supervisionado"
   ]
  },
  {
   "cell_type": "markdown",
   "metadata": {
    "id": "nI30de3NuBBM"
   },
   "source": [
    "**Pergunta:** Qual a técnica sugerida para este projeto?"
   ]
  },
  {
   "cell_type": "markdown",
   "metadata": {
    "id": "JYfQwi1WuBBN"
   },
   "source": [
    "**Resposta:**\n",
    "\n",
    "    [ ] Regressão\n",
    "    [X] Classificação\n",
    "    [ ] Clusterização"
   ]
  },
  {
   "cell_type": "code",
   "execution_count": 184,
   "metadata": {
    "colab": {
     "base_uri": "https://localhost:8080/"
    },
    "id": "tqamrFzBuBBN",
    "outputId": "a945715a-873c-418c-88f6-5cda4bfe1af8"
   },
   "outputs": [
    {
     "data": {
      "text/plain": [
       "array(['Normal', 'heart disease'], dtype=object)"
      ]
     },
     "execution_count": 184,
     "metadata": {},
     "output_type": "execute_result"
    }
   ],
   "source": [
    "data['class'].unique()"
   ]
  },
  {
   "cell_type": "markdown",
   "metadata": {
    "id": "d7lbLoJouBBN"
   },
   "source": [
    "**Pergunta:** Escolha 3 modelos de algoritmos de ML para ser testado."
   ]
  },
  {
   "cell_type": "markdown",
   "metadata": {
    "id": "kgDVUxuvuBBN"
   },
   "source": [
    "**Resposta:**\n",
    "\n",
    "1. algoritimo DecisionTree\n",
    "2. algoritimo RandomForest\n",
    "3. algoritimo KNeighbors\n"
   ]
  },
  {
   "cell_type": "markdown",
   "metadata": {
    "id": "ezA40pZTuBBN"
   },
   "source": [
    "**Pergunta:** Explique como cada algoritmo funciona.\n",
    "\n"
   ]
  },
  {
   "cell_type": "markdown",
   "metadata": {
    "id": "dHCRXsj3uBBN"
   },
   "source": [
    "**Resposta:**\n",
    "\n",
    "1. Uma Árvore de Decisão usa uma estrutura de árvore para representar um número de \"possíveis caminhos de decisão\" e um resultado para cada caminho. \n",
    "2. Random Forest se resume a criar várias árvores de decisão aleatóriamente, de forma que, ao final de cada uma, realiza uma média de seus resultados para encontrar uma reposta.\n",
    "3. É um modelo que não possuí de muitas premissas matemáticas, e não requer nenhum tipo de maquinário pesado, apenas:\n",
    "      - Uma noção de distância;\n",
    "      - Uma premissa de que pontos que estão perto um do outro são similares."
   ]
  },
  {
   "cell_type": "markdown",
   "metadata": {
    "id": "SkNDYafvuBBN"
   },
   "source": [
    "### Dataset dos dados tratados \n",
    "\n",
    "Crie um subset dos dados apenas com os atributos que serão utilizados e exiba as primeiras linhas."
   ]
  },
  {
   "cell_type": "code",
   "execution_count": 185,
   "metadata": {
    "colab": {
     "base_uri": "https://localhost:8080/",
     "height": 250
    },
    "id": "-Ya2Cq1yuBBO",
    "outputId": "ed347812-5a4a-4faa-8d37-4b9ae4a0b715"
   },
   "outputs": [
    {
     "data": {
      "text/html": [
       "<div>\n",
       "<style scoped>\n",
       "    .dataframe tbody tr th:only-of-type {\n",
       "        vertical-align: middle;\n",
       "    }\n",
       "\n",
       "    .dataframe tbody tr th {\n",
       "        vertical-align: top;\n",
       "    }\n",
       "\n",
       "    .dataframe thead th {\n",
       "        text-align: right;\n",
       "    }\n",
       "</style>\n",
       "<table border=\"1\" class=\"dataframe\">\n",
       "  <thead>\n",
       "    <tr style=\"text-align: right;\">\n",
       "      <th></th>\n",
       "      <th>age</th>\n",
       "      <th>sex</th>\n",
       "      <th>chest pain type</th>\n",
       "      <th>resting bp s</th>\n",
       "      <th>cholesterol</th>\n",
       "      <th>fasting blood sugar</th>\n",
       "      <th>resting ecg</th>\n",
       "      <th>max heart rate</th>\n",
       "      <th>exercise angina</th>\n",
       "      <th>oldpeak</th>\n",
       "      <th>ST slope</th>\n",
       "      <th>class</th>\n",
       "    </tr>\n",
       "  </thead>\n",
       "  <tbody>\n",
       "    <tr>\n",
       "      <th>0</th>\n",
       "      <td>40</td>\n",
       "      <td>male</td>\n",
       "      <td>2</td>\n",
       "      <td>140</td>\n",
       "      <td>289</td>\n",
       "      <td>0</td>\n",
       "      <td>0</td>\n",
       "      <td>172</td>\n",
       "      <td>no</td>\n",
       "      <td>0</td>\n",
       "      <td>1</td>\n",
       "      <td>Normal</td>\n",
       "    </tr>\n",
       "    <tr>\n",
       "      <th>1</th>\n",
       "      <td>49</td>\n",
       "      <td>female</td>\n",
       "      <td>3</td>\n",
       "      <td>160</td>\n",
       "      <td>180</td>\n",
       "      <td>0</td>\n",
       "      <td>0</td>\n",
       "      <td>156</td>\n",
       "      <td>no</td>\n",
       "      <td>10</td>\n",
       "      <td>2</td>\n",
       "      <td>heart disease</td>\n",
       "    </tr>\n",
       "    <tr>\n",
       "      <th>2</th>\n",
       "      <td>37</td>\n",
       "      <td>male</td>\n",
       "      <td>2</td>\n",
       "      <td>130</td>\n",
       "      <td>283</td>\n",
       "      <td>0</td>\n",
       "      <td>1</td>\n",
       "      <td>98</td>\n",
       "      <td>no</td>\n",
       "      <td>0</td>\n",
       "      <td>1</td>\n",
       "      <td>Normal</td>\n",
       "    </tr>\n",
       "    <tr>\n",
       "      <th>3</th>\n",
       "      <td>48</td>\n",
       "      <td>female</td>\n",
       "      <td>4</td>\n",
       "      <td>138</td>\n",
       "      <td>214</td>\n",
       "      <td>0</td>\n",
       "      <td>0</td>\n",
       "      <td>108</td>\n",
       "      <td>yes</td>\n",
       "      <td>15</td>\n",
       "      <td>2</td>\n",
       "      <td>heart disease</td>\n",
       "    </tr>\n",
       "    <tr>\n",
       "      <th>4</th>\n",
       "      <td>54</td>\n",
       "      <td>male</td>\n",
       "      <td>3</td>\n",
       "      <td>150</td>\n",
       "      <td>195</td>\n",
       "      <td>0</td>\n",
       "      <td>0</td>\n",
       "      <td>122</td>\n",
       "      <td>no</td>\n",
       "      <td>0</td>\n",
       "      <td>1</td>\n",
       "      <td>Normal</td>\n",
       "    </tr>\n",
       "  </tbody>\n",
       "</table>\n",
       "</div>"
      ],
      "text/plain": [
       "   age     sex  chest pain type  resting bp s  cholesterol  \\\n",
       "0   40    male                2           140          289   \n",
       "1   49  female                3           160          180   \n",
       "2   37    male                2           130          283   \n",
       "3   48  female                4           138          214   \n",
       "4   54    male                3           150          195   \n",
       "\n",
       "   fasting blood sugar  resting ecg  max heart rate exercise angina  oldpeak  \\\n",
       "0                    0            0             172              no        0   \n",
       "1                    0            0             156              no       10   \n",
       "2                    0            1              98              no        0   \n",
       "3                    0            0             108             yes       15   \n",
       "4                    0            0             122              no        0   \n",
       "\n",
       "   ST slope          class  \n",
       "0         1         Normal  \n",
       "1         2  heart disease  \n",
       "2         1         Normal  \n",
       "3         2  heart disease  \n",
       "4         1         Normal  "
      ]
     },
     "metadata": {},
     "output_type": "display_data"
    }
   ],
   "source": [
    "#Seu Código aqui...\n",
    "display(data.head())\n",
    "# A princípio, todos os atribuitos (features) serão usadas nos modelos de ML."
   ]
  },
  {
   "cell_type": "markdown",
   "metadata": {
    "id": "Ca7aNErGuBBO"
   },
   "source": [
    "### Divisão em treino e teste.\n",
    "\n",
    "Faça o split do dados para treinamento e teste"
   ]
  },
  {
   "cell_type": "code",
   "execution_count": 186,
   "metadata": {
    "colab": {
     "base_uri": "https://localhost:8080/"
    },
    "id": "SDVNnRS7uBBO",
    "outputId": "720e86c5-95e2-470f-cdfd-ef17ab390fb0"
   },
   "outputs": [
    {
     "name": "stdout",
     "output_type": "stream",
     "text": [
      "Dataset: (1190, 12)\n",
      "X_train: (892, 13)\n",
      "y_train: (892,)\n",
      "X_test: (298, 13)\n",
      "y_test: (298,)\n"
     ]
    }
   ],
   "source": [
    "#Seu Código aqui...\n",
    "from sklearn.model_selection import train_test_split, cross_val_score\n",
    "X_train, X_test, y_train, y_test = train_test_split(X_norm, y, test_size = 0.25, random_state = 10)\n",
    "print(f'Dataset: {data.shape}')\n",
    "print(f'X_train: {X_train.shape}')\n",
    "print(f'y_train: {y_train.shape}')\n",
    "print(f'X_test: {X_test.shape}')\n",
    "print(f'y_test: {y_test.shape}')"
   ]
  },
  {
   "cell_type": "markdown",
   "metadata": {
    "id": "Bybd6NQvuBBO"
   },
   "source": [
    "## 4. Treinamento e teste do modelo\n",
    "\n",
    "Defina a métrica de performance para avaliação dos modelos de ML"
   ]
  },
  {
   "cell_type": "markdown",
   "metadata": {
    "id": "IpdKBojwuBBP"
   },
   "source": [
    "**Resposta:**\n",
    "\n",
    "- 1° Acuracy_Score: realiza a validação dos dados previstos (ypred) com os dados reais (y_test);\n",
    "- 2° Confusion Matrix: determina os valores de True Positivo, False Positivo, True Negativo e False Negativo, medindo a precisão de determinação do modelo."
   ]
  },
  {
   "cell_type": "markdown",
   "metadata": {
    "id": "o2fuLNaduBBP"
   },
   "source": [
    "### Treinamento e teste\n",
    "\n",
    "Faça o treinamento e teste de dos 3 algoritmos escolhidos, aplique no treinamento a validação cruzada para um kfold de 5."
   ]
  },
  {
   "cell_type": "markdown",
   "metadata": {
    "id": "4Mkoz-26uBBP"
   },
   "source": [
    "### Algoritmo 1 - Decision Tree"
   ]
  },
  {
   "cell_type": "code",
   "execution_count": 187,
   "metadata": {
    "id": "o5bPmcJjuBBP"
   },
   "outputs": [],
   "source": [
    "from sklearn.metrics import accuracy_score, ConfusionMatrixDisplay, confusion_matrix"
   ]
  },
  {
   "cell_type": "code",
   "execution_count": 188,
   "metadata": {
    "colab": {
     "base_uri": "https://localhost:8080/",
     "height": 366
    },
    "id": "Bz9rLrHauBBP",
    "outputId": "1341ebb4-276f-46de-e98c-dd1411a3e28d"
   },
   "outputs": [
    {
     "name": "stdout",
     "output_type": "stream",
     "text": [
      "Score de treino: 100.00%\n",
      "Acuracia do modelo DT: 87.92%\n",
      "[0.81512605 0.81512605 0.8697479  0.90756303 0.97478992]\n",
      "CV_scores mean: 87.65%\n",
      "Quantidade de dados de teste: 298\n"
     ]
    },
    {
     "data": {
      "image/png": "[encoded data removed]",
      "text/plain": [
       "<Figure size 432x288 with 2 Axes>"
      ]
     },
     "metadata": {
      "needs_background": "light"
     },
     "output_type": "display_data"
    }
   ],
   "source": [
    "#Seu Código aqui...\n",
    "from sklearn.tree import DecisionTreeClassifier\n",
    "modelo_tree = DecisionTreeClassifier(random_state = 1024)\n",
    "modelo_tree.fit(X_train, y_train)\n",
    "ypred = modelo_tree.predict(X_test)\n",
    "# Testando a acuracia do modelo\n",
    "score_train = modelo_tree.score(X_train, y_train)\n",
    "print(f'Score de treino: {score_train:.2%}')\n",
    "\n",
    "acuracia_test = accuracy_score(y_test, ypred)\n",
    "print(f'Acuracia do modelo DT: {acuracia_test:.2%}')\n",
    "\n",
    "# Validação Cruzada\n",
    "cv_scores = cross_val_score(modelo_tree, X_norm, y, cv=5)\n",
    "print(cv_scores)\n",
    "print(f'CV_scores mean: {np.mean(cv_scores):.2%}')\n",
    "\n",
    "# Confusion Matrix\n",
    "cm = confusion_matrix(y_test, ypred, labels=modelo_tree.classes_)\n",
    "disp = ConfusionMatrixDisplay(confusion_matrix=cm, display_labels=modelo_tree.classes_)\n",
    "disp.plot()\n",
    "\n",
    "print(f'Quantidade de dados de teste: {y_test.shape[0]}')"
   ]
  },
  {
   "cell_type": "markdown",
   "metadata": {
    "id": "PP1RykLkuBBP"
   },
   "source": [
    "### Algoritmo 2 - Random Forest"
   ]
  },
  {
   "cell_type": "code",
   "execution_count": 189,
   "metadata": {
    "colab": {
     "base_uri": "https://localhost:8080/",
     "height": 366
    },
    "id": "cOz4S1n9uBBQ",
    "outputId": "40d1833a-a5b9-4735-d7b4-9c651b060eb4"
   },
   "outputs": [
    {
     "name": "stdout",
     "output_type": "stream",
     "text": [
      "Score de treino: 100.00%\n",
      "Acuracia do modelo DT: 93.62%\n",
      "[0.8697479  0.85294118 0.94957983 0.94117647 0.96638655]\n",
      "CV_scores mean: 91.60%\n",
      "Quantidade de dados de teste: 298\n"
     ]
    },
    {
     "data": {
      "image/png": "[encoded data removed]",
      "text/plain": [
       "<Figure size 432x288 with 2 Axes>"
      ]
     },
     "metadata": {
      "needs_background": "light"
     },
     "output_type": "display_data"
    }
   ],
   "source": [
    "#Seu Código aqui...\n",
    "from sklearn.ensemble import RandomForestClassifier\n",
    "modelo_random = RandomForestClassifier(random_state = 1024)\n",
    "modelo_random.fit(X_train, y_train)\n",
    "ypred = modelo_random.predict(X_test)\n",
    "\n",
    "# Testando a acuracia do modelo\n",
    "score_train = modelo_random.score(X_train, y_train)\n",
    "print(f'Score de treino: {score_train:.2%}')\n",
    "\n",
    "acuracia_test = accuracy_score(y_test, ypred)\n",
    "print(f'Acuracia do modelo DT: {acuracia_test:.2%}')\n",
    "\n",
    "# Validação Cruzada\n",
    "cv_scores = cross_val_score(modelo_random, X_norm, y, cv=5)\n",
    "print(cv_scores)\n",
    "print(f'CV_scores mean: {np.mean(cv_scores):.2%}')\n",
    "\n",
    "# Confusion Matrix\n",
    "cm = confusion_matrix(y_test, ypred, labels=modelo_random.classes_)\n",
    "disp = ConfusionMatrixDisplay(confusion_matrix=cm, display_labels=modelo_random.classes_)\n",
    "disp.plot()\n",
    "\n",
    "print(f'Quantidade de dados de teste: {y_test.shape[0]}')"
   ]
  },
  {
   "cell_type": "markdown",
   "metadata": {
    "id": "DDs6mEcQuBBQ"
   },
   "source": [
    "### Algoritmo 3 - KNeighbors"
   ]
  },
  {
   "cell_type": "code",
   "execution_count": 190,
   "metadata": {
    "colab": {
     "base_uri": "https://localhost:8080/",
     "height": 366
    },
    "id": "pUnrEUEJuBBQ",
    "outputId": "bc4cb7f6-58ef-4e9a-dcd1-d6cfda59c098"
   },
   "outputs": [
    {
     "name": "stdout",
     "output_type": "stream",
     "text": [
      "Score de treino: 78.48%\n",
      "Acuracia do modelo DT: 80.87%\n",
      "[0.73109244 0.76470588 0.79411765 0.70168067 0.69327731]\n",
      "CV_scores mean: 73.70%\n",
      "Quantidade de dados de teste: 298\n"
     ]
    },
    {
     "data": {
      "image/png": "[encoded data removed]",
      "text/plain": [
       "<Figure size 432x288 with 2 Axes>"
      ]
     },
     "metadata": {
      "needs_background": "light"
     },
     "output_type": "display_data"
    }
   ],
   "source": [
    "#Seu Código aqui...\n",
    "from sklearn.neighbors import KNeighborsClassifier\n",
    "modelo_knn = KNeighborsClassifier(n_neighbors=9)\n",
    "modelo_knn.fit(X_train, y_train)\n",
    "ypred = modelo_knn.predict(X_test)\n",
    "\n",
    "# Testando a acuracia do modelo\n",
    "score_train = modelo_knn.score(X_train, y_train)\n",
    "print(f'Score de treino: {score_train:.2%}')\n",
    "\n",
    "acuracia_test = accuracy_score(y_test, ypred)\n",
    "print(f'Acuracia do modelo DT: {acuracia_test:.2%}')\n",
    "\n",
    "# Validação Cruzada\n",
    "cv_scores = cross_val_score(modelo_knn, X_norm, y, cv=5)\n",
    "print(cv_scores)\n",
    "print(f'CV_scores mean: {np.mean(cv_scores):.2%}')\n",
    "\n",
    "# Confusion Matrix\n",
    "cm = confusion_matrix(y_test, ypred, labels=modelo_knn.classes_)\n",
    "disp = ConfusionMatrixDisplay(confusion_matrix=cm, display_labels=modelo_knn.classes_)\n",
    "disp.plot()\n",
    "\n",
    "print(f'Quantidade de dados de teste: {y_test.shape[0]}')"
   ]
  },
  {
   "cell_type": "markdown",
   "metadata": {
    "id": "HsEAXnhruBBQ"
   },
   "source": [
    "Sumarize na tabela abaixo os resultados obtidos dos modelos de ML para o conjuntos de dados de treino e de testes"
   ]
  },
  {
   "cell_type": "markdown",
   "metadata": {
    "id": "71cZnubRuBBQ"
   },
   "source": [
    "**Resposta:**\n",
    "\n",
    "|                     | DecisionTree | RandomForest | KNeighbors |\n",
    "|:---------------------|:------------------:|:-----------------------------:|:-----------------:|\n",
    "| treino |      100%           |      100%                       |   78,48%              |\n",
    "| teste  |      87,92%            |      93.62%                       |   80,87%              |\n"
   ]
  },
  {
   "cell_type": "markdown",
   "metadata": {
    "id": "NXBjpC_8uBBQ"
   },
   "source": [
    "**Pergunta:** Qual foi a performance de cada algoritmo? Explique os resultados e detalhe como a característica de cada algoritmo influenciou no resultado.\n",
    "\n",
    "**Resposta:**\n",
    "Os algorítimo de DecisionTree e RandomForest apresentaram 100% no score de treino, enquanto o algorítimo KNeighbors apresentou 78,48%, um valor inferior. No teste, quem teve o melhor resultado de acurácia foi o algorítimo RandomForest com 93,62%, enquanto os outros dois ficaram na casa dos 80%."
   ]
  },
  {
   "cell_type": "markdown",
   "metadata": {
    "id": "bpAc5gNnuBBQ"
   },
   "source": [
    "## 5. Validação e Otimização do Modelo\n",
    "\n",
    "Faça a otimização dos modelos, tunning dos hiperparametros, utilize uma das técinicas: **RandomSearchCV** ou **GridSearchCV**.\n",
    "\n",
    "\n",
    "Após a otimização dos parametros, treine novamente os 3 algoritmos de ML  utilizando os parametos de otimização e compares seus resultados.\n"
   ]
  },
  {
   "cell_type": "markdown",
   "metadata": {
    "id": "eG1RBRJYuBBR"
   },
   "source": [
    "**Pergunta:** Qual a técnica escolhida? Por que?\n",
    "\n",
    "**Resposta:** Foram testados as duas técnicas de otimização de modelos: GridSearchCV e RandomSearchCV. Devido a quantidade de dados não ser tão elevado, a performace da técnica GridSearchCV apresentou maior resultado, sendo também um ponto a mais a velocidade de execução, ou seja, devido a quantidade de informação e a velocidade performática, o método GridSearch é o que melhor atende a este caso."
   ]
  },
  {
   "cell_type": "code",
   "execution_count": 191,
   "metadata": {
    "id": "2cnqnc9PhNGT"
   },
   "outputs": [],
   "source": [
    "from sklearn.model_selection import GridSearchCV, RandomizedSearchCV"
   ]
  },
  {
   "cell_type": "markdown",
   "metadata": {
    "id": "kLbYNm4yuBBR"
   },
   "source": [
    "### Algoritmo 1 - Decision Tree"
   ]
  },
  {
   "cell_type": "markdown",
   "metadata": {
    "id": "_twW6XOwrHqk"
   },
   "source": [
    "- Hiperparâmetros Decision Tree:"
   ]
  },
  {
   "cell_type": "code",
   "execution_count": 192,
   "metadata": {
    "id": "9lRMZ3-CrHcQ"
   },
   "outputs": [],
   "source": [
    "rf_grid = {'max_features': ['auto', 'sqrt', 'log2'],\n",
    "              'ccp_alpha': [0.1, .01, .001, .0001, .00001],\n",
    "              'max_depth' : [5, 6, 7, 8, 9, 10, 11, 12],\n",
    "              'criterion' :['gini', 'entropy']\n",
    "             }"
   ]
  },
  {
   "cell_type": "markdown",
   "metadata": {
    "id": "K5V-6B44ktQs"
   },
   "source": [
    "##### GridSearchCV"
   ]
  },
  {
   "cell_type": "code",
   "execution_count": 193,
   "metadata": {
    "colab": {
     "base_uri": "https://localhost:8080/"
    },
    "id": "wr45iKEsuBBR",
    "outputId": "ec093105-881b-4766-afa0-0d891206dc0f"
   },
   "outputs": [
    {
     "name": "stdout",
     "output_type": "stream",
     "text": [
      "Fitting 5 folds for each of 240 candidates, totalling 1200 fits\n"
     ]
    },
    {
     "data": {
      "text/html": [
       "<style>#sk-container-id-11 {color: black;background-color: white;}#sk-container-id-11 pre{padding: 0;}#sk-container-id-11 div.sk-toggleable {background-color: white;}#sk-container-id-11 label.sk-toggleable__label {cursor: pointer;display: block;width: 100%;margin-bottom: 0;padding: 0.3em;box-sizing: border-box;text-align: center;}#sk-container-id-11 label.sk-toggleable__label-arrow:before {content: \"▸\";float: left;margin-right: 0.25em;color: #696969;}#sk-container-id-11 label.sk-toggleable__label-arrow:hover:before {color: black;}#sk-container-id-11 div.sk-estimator:hover label.sk-toggleable__label-arrow:before {color: black;}#sk-container-id-11 div.sk-toggleable__content {max-height: 0;max-width: 0;overflow: hidden;text-align: left;background-color: #f0f8ff;}#sk-container-id-11 div.sk-toggleable__content pre {margin: 0.2em;color: black;border-radius: 0.25em;background-color: #f0f8ff;}#sk-container-id-11 input.sk-toggleable__control:checked~div.sk-toggleable__content {max-height: 200px;max-width: 100%;overflow: auto;}#sk-container-id-11 input.sk-toggleable__control:checked~label.sk-toggleable__label-arrow:before {content: \"▾\";}#sk-container-id-11 div.sk-estimator input.sk-toggleable__control:checked~label.sk-toggleable__label {background-color: #d4ebff;}#sk-container-id-11 div.sk-label input.sk-toggleable__control:checked~label.sk-toggleable__label {background-color: #d4ebff;}#sk-container-id-11 input.sk-hidden--visually {border: 0;clip: rect(1px 1px 1px 1px);clip: rect(1px, 1px, 1px, 1px);height: 1px;margin: -1px;overflow: hidden;padding: 0;position: absolute;width: 1px;}#sk-container-id-11 div.sk-estimator {font-family: monospace;background-color: #f0f8ff;border: 1px dotted black;border-radius: 0.25em;box-sizing: border-box;margin-bottom: 0.5em;}#sk-container-id-11 div.sk-estimator:hover {background-color: #d4ebff;}#sk-container-id-11 div.sk-parallel-item::after {content: \"\";width: 100%;border-bottom: 1px solid gray;flex-grow: 1;}#sk-container-id-11 div.sk-label:hover label.sk-toggleable__label {background-color: #d4ebff;}#sk-container-id-11 div.sk-serial::before {content: \"\";position: absolute;border-left: 1px solid gray;box-sizing: border-box;top: 0;bottom: 0;left: 50%;z-index: 0;}#sk-container-id-11 div.sk-serial {display: flex;flex-direction: column;align-items: center;background-color: white;padding-right: 0.2em;padding-left: 0.2em;position: relative;}#sk-container-id-11 div.sk-item {position: relative;z-index: 1;}#sk-container-id-11 div.sk-parallel {display: flex;align-items: stretch;justify-content: center;background-color: white;position: relative;}#sk-container-id-11 div.sk-item::before, #sk-container-id-11 div.sk-parallel-item::before {content: \"\";position: absolute;border-left: 1px solid gray;box-sizing: border-box;top: 0;bottom: 0;left: 50%;z-index: -1;}#sk-container-id-11 div.sk-parallel-item {display: flex;flex-direction: column;z-index: 1;position: relative;background-color: white;}#sk-container-id-11 div.sk-parallel-item:first-child::after {align-self: flex-end;width: 50%;}#sk-container-id-11 div.sk-parallel-item:last-child::after {align-self: flex-start;width: 50%;}#sk-container-id-11 div.sk-parallel-item:only-child::after {width: 0;}#sk-container-id-11 div.sk-dashed-wrapped {border: 1px dashed gray;margin: 0 0.4em 0.5em 0.4em;box-sizing: border-box;padding-bottom: 0.4em;background-color: white;}#sk-container-id-11 div.sk-label label {font-family: monospace;font-weight: bold;display: inline-block;line-height: 1.2em;}#sk-container-id-11 div.sk-label-container {text-align: center;}#sk-container-id-11 div.sk-container {/* jupyter's `normalize.less` sets `[hidden] { display: none; }` but bootstrap.min.css set `[hidden] { display: none !important; }` so we also need the `!important` here to be able to override the default hidden behavior on the sphinx rendered scikit-learn.org. See: https://github.com/scikit-learn/scikit-learn/issues/21755 */display: inline-block !important;position: relative;}#sk-container-id-11 div.sk-text-repr-fallback {display: none;}</style><div id=\"sk-container-id-11\" class=\"sk-top-container\"><div class=\"sk-text-repr-fallback\"><pre>DecisionTreeClassifier(ccp_alpha=0.001, criterion=&#x27;entropy&#x27;, max_depth=11,\n",
       "                       max_features=&#x27;auto&#x27;, random_state=1024)</pre><b>In a Jupyter environment, please rerun this cell to show the HTML representation or trust the notebook. <br />On GitHub, the HTML representation is unable to render, please try loading this page with nbviewer.org.</b></div><div class=\"sk-container\" hidden><div class=\"sk-item\"><div class=\"sk-estimator sk-toggleable\"><input class=\"sk-toggleable__control sk-hidden--visually\" id=\"sk-estimator-id-11\" type=\"checkbox\" checked><label for=\"sk-estimator-id-11\" class=\"sk-toggleable__label sk-toggleable__label-arrow\">DecisionTreeClassifier</label><div class=\"sk-toggleable__content\"><pre>DecisionTreeClassifier(ccp_alpha=0.001, criterion=&#x27;entropy&#x27;, max_depth=11,\n",
       "                       max_features=&#x27;auto&#x27;, random_state=1024)</pre></div></div></div></div></div>"
      ],
      "text/plain": [
       "DecisionTreeClassifier(ccp_alpha=0.001, criterion='entropy', max_depth=11,\n",
       "                       max_features='auto', random_state=1024)"
      ]
     },
     "execution_count": 193,
     "metadata": {},
     "output_type": "execute_result"
    }
   ],
   "source": [
    "#Seu Código aqui...\n",
    "import warnings\n",
    "warnings.filterwarnings('ignore')\n",
    "\n",
    "grid_search = GridSearchCV(estimator=modelo_tree, param_grid=rf_grid, cv=5, verbose=True)\n",
    "\n",
    "# Treinando o modelo\n",
    "grid_search.fit(X_train, y_train)\n",
    "\n",
    "# Entrega os melhores parâmetros mais adequados para o modelo\n",
    "final_model = grid_search.best_estimator_\n",
    "final_model"
   ]
  },
  {
   "cell_type": "code",
   "execution_count": 194,
   "metadata": {
    "colab": {
     "base_uri": "https://localhost:8080/"
    },
    "id": "PSePJWt8sfeF",
    "outputId": "ae6bd0e0-d636-42dc-9b5e-eca72ef473b2"
   },
   "outputs": [
    {
     "name": "stdout",
     "output_type": "stream",
     "text": [
      "Score de treino: 97.53%\n",
      "Acuracia do modelo DecisionTree: 86.24%\n",
      "\n",
      "Quantidade de dados de teste: 298\n"
     ]
    },
    {
     "data": {
      "image/png": "[encoded data removed]",
      "text/plain": [
       "<Figure size 432x288 with 2 Axes>"
      ]
     },
     "metadata": {
      "needs_background": "light"
     },
     "output_type": "display_data"
    }
   ],
   "source": [
    "model_grid_tree = DecisionTreeClassifier(ccp_alpha=0.001, criterion='entropy', max_depth=11,\n",
    "                       max_features='auto', random_state=1024)\n",
    "model_grid_tree.fit(X_train, y_train)\n",
    "ypred = model_grid_tree.predict(X_test)\n",
    "\n",
    "# Testando a acuracia do modelo\n",
    "score_train = model_grid_tree.score(X_train, y_train)\n",
    "print(f'Score de treino: {score_train:.2%}')\n",
    "\n",
    "acuracia_test = accuracy_score(y_test, ypred)\n",
    "print(f'Acuracia do modelo DecisionTree: {acuracia_test:.2%}')\n",
    "print()\n",
    "# Confusion Matrix\n",
    "cm = confusion_matrix(y_test, ypred, labels=model_grid_tree.classes_)\n",
    "disp = ConfusionMatrixDisplay(confusion_matrix=cm, display_labels=model_grid_tree.classes_)\n",
    "disp.plot()\n",
    "\n",
    "print(f'Quantidade de dados de teste: {y_test.shape[0]}')"
   ]
  },
  {
   "cell_type": "markdown",
   "metadata": {
    "id": "V2utlfiwGMVk"
   },
   "source": [
    "##### RandomSearchCV"
   ]
  },
  {
   "cell_type": "code",
   "execution_count": 195,
   "metadata": {
    "colab": {
     "base_uri": "https://localhost:8080/"
    },
    "id": "iCnHt_MGGL-w",
    "outputId": "0972a901-6943-42a8-b358-6bf86f12b9cb"
   },
   "outputs": [
    {
     "data": {
      "text/html": [
       "<style>#sk-container-id-12 {color: black;background-color: white;}#sk-container-id-12 pre{padding: 0;}#sk-container-id-12 div.sk-toggleable {background-color: white;}#sk-container-id-12 label.sk-toggleable__label {cursor: pointer;display: block;width: 100%;margin-bottom: 0;padding: 0.3em;box-sizing: border-box;text-align: center;}#sk-container-id-12 label.sk-toggleable__label-arrow:before {content: \"▸\";float: left;margin-right: 0.25em;color: #696969;}#sk-container-id-12 label.sk-toggleable__label-arrow:hover:before {color: black;}#sk-container-id-12 div.sk-estimator:hover label.sk-toggleable__label-arrow:before {color: black;}#sk-container-id-12 div.sk-toggleable__content {max-height: 0;max-width: 0;overflow: hidden;text-align: left;background-color: #f0f8ff;}#sk-container-id-12 div.sk-toggleable__content pre {margin: 0.2em;color: black;border-radius: 0.25em;background-color: #f0f8ff;}#sk-container-id-12 input.sk-toggleable__control:checked~div.sk-toggleable__content {max-height: 200px;max-width: 100%;overflow: auto;}#sk-container-id-12 input.sk-toggleable__control:checked~label.sk-toggleable__label-arrow:before {content: \"▾\";}#sk-container-id-12 div.sk-estimator input.sk-toggleable__control:checked~label.sk-toggleable__label {background-color: #d4ebff;}#sk-container-id-12 div.sk-label input.sk-toggleable__control:checked~label.sk-toggleable__label {background-color: #d4ebff;}#sk-container-id-12 input.sk-hidden--visually {border: 0;clip: rect(1px 1px 1px 1px);clip: rect(1px, 1px, 1px, 1px);height: 1px;margin: -1px;overflow: hidden;padding: 0;position: absolute;width: 1px;}#sk-container-id-12 div.sk-estimator {font-family: monospace;background-color: #f0f8ff;border: 1px dotted black;border-radius: 0.25em;box-sizing: border-box;margin-bottom: 0.5em;}#sk-container-id-12 div.sk-estimator:hover {background-color: #d4ebff;}#sk-container-id-12 div.sk-parallel-item::after {content: \"\";width: 100%;border-bottom: 1px solid gray;flex-grow: 1;}#sk-container-id-12 div.sk-label:hover label.sk-toggleable__label {background-color: #d4ebff;}#sk-container-id-12 div.sk-serial::before {content: \"\";position: absolute;border-left: 1px solid gray;box-sizing: border-box;top: 0;bottom: 0;left: 50%;z-index: 0;}#sk-container-id-12 div.sk-serial {display: flex;flex-direction: column;align-items: center;background-color: white;padding-right: 0.2em;padding-left: 0.2em;position: relative;}#sk-container-id-12 div.sk-item {position: relative;z-index: 1;}#sk-container-id-12 div.sk-parallel {display: flex;align-items: stretch;justify-content: center;background-color: white;position: relative;}#sk-container-id-12 div.sk-item::before, #sk-container-id-12 div.sk-parallel-item::before {content: \"\";position: absolute;border-left: 1px solid gray;box-sizing: border-box;top: 0;bottom: 0;left: 50%;z-index: -1;}#sk-container-id-12 div.sk-parallel-item {display: flex;flex-direction: column;z-index: 1;position: relative;background-color: white;}#sk-container-id-12 div.sk-parallel-item:first-child::after {align-self: flex-end;width: 50%;}#sk-container-id-12 div.sk-parallel-item:last-child::after {align-self: flex-start;width: 50%;}#sk-container-id-12 div.sk-parallel-item:only-child::after {width: 0;}#sk-container-id-12 div.sk-dashed-wrapped {border: 1px dashed gray;margin: 0 0.4em 0.5em 0.4em;box-sizing: border-box;padding-bottom: 0.4em;background-color: white;}#sk-container-id-12 div.sk-label label {font-family: monospace;font-weight: bold;display: inline-block;line-height: 1.2em;}#sk-container-id-12 div.sk-label-container {text-align: center;}#sk-container-id-12 div.sk-container {/* jupyter's `normalize.less` sets `[hidden] { display: none; }` but bootstrap.min.css set `[hidden] { display: none !important; }` so we also need the `!important` here to be able to override the default hidden behavior on the sphinx rendered scikit-learn.org. See: https://github.com/scikit-learn/scikit-learn/issues/21755 */display: inline-block !important;position: relative;}#sk-container-id-12 div.sk-text-repr-fallback {display: none;}</style><div id=\"sk-container-id-12\" class=\"sk-top-container\"><div class=\"sk-text-repr-fallback\"><pre>DecisionTreeClassifier(ccp_alpha=1e-05, max_depth=9, max_features=&#x27;sqrt&#x27;,\n",
       "                       random_state=1024)</pre><b>In a Jupyter environment, please rerun this cell to show the HTML representation or trust the notebook. <br />On GitHub, the HTML representation is unable to render, please try loading this page with nbviewer.org.</b></div><div class=\"sk-container\" hidden><div class=\"sk-item\"><div class=\"sk-estimator sk-toggleable\"><input class=\"sk-toggleable__control sk-hidden--visually\" id=\"sk-estimator-id-12\" type=\"checkbox\" checked><label for=\"sk-estimator-id-12\" class=\"sk-toggleable__label sk-toggleable__label-arrow\">DecisionTreeClassifier</label><div class=\"sk-toggleable__content\"><pre>DecisionTreeClassifier(ccp_alpha=1e-05, max_depth=9, max_features=&#x27;sqrt&#x27;,\n",
       "                       random_state=1024)</pre></div></div></div></div></div>"
      ],
      "text/plain": [
       "DecisionTreeClassifier(ccp_alpha=1e-05, max_depth=9, max_features='sqrt',\n",
       "                       random_state=1024)"
      ]
     },
     "execution_count": 195,
     "metadata": {},
     "output_type": "execute_result"
    }
   ],
   "source": [
    "random_search = RandomizedSearchCV(estimator = modelo_tree, param_distributions= rf_grid, \n",
    "                                   scoring= 'accuracy', cv = 5)\n",
    "\n",
    "# Treinando o modelo\n",
    "random_search.fit(X_train, y_train)\n",
    "\n",
    "# Entrega os melhores parâmetros mais adequados para o modelo\n",
    "final_model = random_search.best_estimator_\n",
    "final_model"
   ]
  },
  {
   "cell_type": "code",
   "execution_count": 196,
   "metadata": {
    "colab": {
     "base_uri": "https://localhost:8080/"
    },
    "id": "fiWVQ6ZhGL16",
    "outputId": "bfb11c93-7ca7-43d5-b3bb-dc3bf95bced1"
   },
   "outputs": [
    {
     "name": "stdout",
     "output_type": "stream",
     "text": [
      "Score de treino: 100.00%\n",
      "Acuracia do modelo RandomForest: 93.62%\n",
      "\n",
      "Quantidade de dados de teste: 298\n"
     ]
    },
    {
     "data": {
      "image/png": "[encoded data removed]",
      "text/plain": [
       "<Figure size 432x288 with 2 Axes>"
      ]
     },
     "metadata": {
      "needs_background": "light"
     },
     "output_type": "display_data"
    }
   ],
   "source": [
    "model_random_tree = RandomForestClassifier(ccp_alpha=0.0001, max_depth=12, max_features='log2',\n",
    "                       random_state=1024)\n",
    "model_random_tree.fit(X_train, y_train)\n",
    "ypred = model_random_tree.predict(X_test)\n",
    "\n",
    "# Testando a acuracia do modelo\n",
    "score_train = model_random_tree.score(X_train, y_train)\n",
    "print(f'Score de treino: {score_train:.2%}')\n",
    "\n",
    "acuracia_test = accuracy_score(y_test, ypred)\n",
    "print(f'Acuracia do modelo RandomForest: {acuracia_test:.2%}')\n",
    "print()\n",
    "\n",
    "# Confusion Matrix\n",
    "cm = confusion_matrix(y_test, ypred, labels=model_random_tree.classes_)\n",
    "disp = ConfusionMatrixDisplay(confusion_matrix=cm, display_labels=model_random_tree.classes_)\n",
    "disp.plot()\n",
    "\n",
    "print(f'Quantidade de dados de teste: {y_test.shape[0]}')"
   ]
  },
  {
   "cell_type": "markdown",
   "metadata": {
    "id": "fYCQNgUSuBBR"
   },
   "source": [
    "### Algoritmo 2 - Random Forest"
   ]
  },
  {
   "cell_type": "markdown",
   "metadata": {
    "id": "l7SrB_nwq_XP"
   },
   "source": [
    "- Hiperparâmetros RandomForest:"
   ]
  },
  {
   "cell_type": "code",
   "execution_count": 197,
   "metadata": {
    "id": "knX3IdBIq_Fv"
   },
   "outputs": [],
   "source": [
    "rf_grid = {'max_features': ['auto', 'sqrt', 'log2'],\n",
    "              'ccp_alpha': [0.1, .01, .001, .0001, .00001],\n",
    "              'max_depth' : [5, 6, 7, 8, 9, 10, 11, 12],\n",
    "              'criterion' :['gini', 'entropy']\n",
    "             }"
   ]
  },
  {
   "cell_type": "markdown",
   "metadata": {
    "id": "PPe2EbWykxrP"
   },
   "source": [
    "##### GridSearchCV"
   ]
  },
  {
   "cell_type": "code",
   "execution_count": 198,
   "metadata": {
    "colab": {
     "base_uri": "https://localhost:8080/"
    },
    "id": "0O6y8CiVtW64",
    "outputId": "b06a5994-7776-4140-8592-7d115fcbc0e7"
   },
   "outputs": [
    {
     "name": "stdout",
     "output_type": "stream",
     "text": [
      "Fitting 5 folds for each of 240 candidates, totalling 1200 fits\n"
     ]
    },
    {
     "data": {
      "text/html": [
       "<style>#sk-container-id-13 {color: black;background-color: white;}#sk-container-id-13 pre{padding: 0;}#sk-container-id-13 div.sk-toggleable {background-color: white;}#sk-container-id-13 label.sk-toggleable__label {cursor: pointer;display: block;width: 100%;margin-bottom: 0;padding: 0.3em;box-sizing: border-box;text-align: center;}#sk-container-id-13 label.sk-toggleable__label-arrow:before {content: \"▸\";float: left;margin-right: 0.25em;color: #696969;}#sk-container-id-13 label.sk-toggleable__label-arrow:hover:before {color: black;}#sk-container-id-13 div.sk-estimator:hover label.sk-toggleable__label-arrow:before {color: black;}#sk-container-id-13 div.sk-toggleable__content {max-height: 0;max-width: 0;overflow: hidden;text-align: left;background-color: #f0f8ff;}#sk-container-id-13 div.sk-toggleable__content pre {margin: 0.2em;color: black;border-radius: 0.25em;background-color: #f0f8ff;}#sk-container-id-13 input.sk-toggleable__control:checked~div.sk-toggleable__content {max-height: 200px;max-width: 100%;overflow: auto;}#sk-container-id-13 input.sk-toggleable__control:checked~label.sk-toggleable__label-arrow:before {content: \"▾\";}#sk-container-id-13 div.sk-estimator input.sk-toggleable__control:checked~label.sk-toggleable__label {background-color: #d4ebff;}#sk-container-id-13 div.sk-label input.sk-toggleable__control:checked~label.sk-toggleable__label {background-color: #d4ebff;}#sk-container-id-13 input.sk-hidden--visually {border: 0;clip: rect(1px 1px 1px 1px);clip: rect(1px, 1px, 1px, 1px);height: 1px;margin: -1px;overflow: hidden;padding: 0;position: absolute;width: 1px;}#sk-container-id-13 div.sk-estimator {font-family: monospace;background-color: #f0f8ff;border: 1px dotted black;border-radius: 0.25em;box-sizing: border-box;margin-bottom: 0.5em;}#sk-container-id-13 div.sk-estimator:hover {background-color: #d4ebff;}#sk-container-id-13 div.sk-parallel-item::after {content: \"\";width: 100%;border-bottom: 1px solid gray;flex-grow: 1;}#sk-container-id-13 div.sk-label:hover label.sk-toggleable__label {background-color: #d4ebff;}#sk-container-id-13 div.sk-serial::before {content: \"\";position: absolute;border-left: 1px solid gray;box-sizing: border-box;top: 0;bottom: 0;left: 50%;z-index: 0;}#sk-container-id-13 div.sk-serial {display: flex;flex-direction: column;align-items: center;background-color: white;padding-right: 0.2em;padding-left: 0.2em;position: relative;}#sk-container-id-13 div.sk-item {position: relative;z-index: 1;}#sk-container-id-13 div.sk-parallel {display: flex;align-items: stretch;justify-content: center;background-color: white;position: relative;}#sk-container-id-13 div.sk-item::before, #sk-container-id-13 div.sk-parallel-item::before {content: \"\";position: absolute;border-left: 1px solid gray;box-sizing: border-box;top: 0;bottom: 0;left: 50%;z-index: -1;}#sk-container-id-13 div.sk-parallel-item {display: flex;flex-direction: column;z-index: 1;position: relative;background-color: white;}#sk-container-id-13 div.sk-parallel-item:first-child::after {align-self: flex-end;width: 50%;}#sk-container-id-13 div.sk-parallel-item:last-child::after {align-self: flex-start;width: 50%;}#sk-container-id-13 div.sk-parallel-item:only-child::after {width: 0;}#sk-container-id-13 div.sk-dashed-wrapped {border: 1px dashed gray;margin: 0 0.4em 0.5em 0.4em;box-sizing: border-box;padding-bottom: 0.4em;background-color: white;}#sk-container-id-13 div.sk-label label {font-family: monospace;font-weight: bold;display: inline-block;line-height: 1.2em;}#sk-container-id-13 div.sk-label-container {text-align: center;}#sk-container-id-13 div.sk-container {/* jupyter's `normalize.less` sets `[hidden] { display: none; }` but bootstrap.min.css set `[hidden] { display: none !important; }` so we also need the `!important` here to be able to override the default hidden behavior on the sphinx rendered scikit-learn.org. See: https://github.com/scikit-learn/scikit-learn/issues/21755 */display: inline-block !important;position: relative;}#sk-container-id-13 div.sk-text-repr-fallback {display: none;}</style><div id=\"sk-container-id-13\" class=\"sk-top-container\"><div class=\"sk-text-repr-fallback\"><pre>RandomForestClassifier(ccp_alpha=0.0001, max_depth=11, max_features=&#x27;auto&#x27;,\n",
       "                       random_state=1024)</pre><b>In a Jupyter environment, please rerun this cell to show the HTML representation or trust the notebook. <br />On GitHub, the HTML representation is unable to render, please try loading this page with nbviewer.org.</b></div><div class=\"sk-container\" hidden><div class=\"sk-item\"><div class=\"sk-estimator sk-toggleable\"><input class=\"sk-toggleable__control sk-hidden--visually\" id=\"sk-estimator-id-13\" type=\"checkbox\" checked><label for=\"sk-estimator-id-13\" class=\"sk-toggleable__label sk-toggleable__label-arrow\">RandomForestClassifier</label><div class=\"sk-toggleable__content\"><pre>RandomForestClassifier(ccp_alpha=0.0001, max_depth=11, max_features=&#x27;auto&#x27;,\n",
       "                       random_state=1024)</pre></div></div></div></div></div>"
      ],
      "text/plain": [
       "RandomForestClassifier(ccp_alpha=0.0001, max_depth=11, max_features='auto',\n",
       "                       random_state=1024)"
      ]
     },
     "execution_count": 198,
     "metadata": {},
     "output_type": "execute_result"
    }
   ],
   "source": [
    "#Seu Código aqui...\n",
    "grid_search = GridSearchCV(estimator=modelo_random, param_grid=rf_grid, cv=5, verbose=True)\n",
    "\n",
    "# Treinando o modelo\n",
    "grid_search.fit(X_train, y_train)\n",
    "\n",
    "# Entrega os melhores parâmetros mais adequados para o modelo\n",
    "final_model = grid_search.best_estimator_\n",
    "final_model"
   ]
  },
  {
   "cell_type": "code",
   "execution_count": 199,
   "metadata": {
    "colab": {
     "base_uri": "https://localhost:8080/"
    },
    "id": "SIBl4GYIuBBR",
    "outputId": "9e0b2dc5-d7c4-41b9-9eb3-49504b48eddc"
   },
   "outputs": [
    {
     "name": "stdout",
     "output_type": "stream",
     "text": [
      "Score de treino: 100.00%\n",
      "Acuracia do modelo RandomForest: 94.30%\n",
      "\n",
      "Quantidade de dados de teste: 298\n"
     ]
    },
    {
     "data": {
      "image/png": "[encoded data removed]",
      "text/plain": [
       "<Figure size 432x288 with 2 Axes>"
      ]
     },
     "metadata": {
      "needs_background": "light"
     },
     "output_type": "display_data"
    }
   ],
   "source": [
    "model_grid_random = RandomForestClassifier(ccp_alpha=0.0001, max_depth=11,\n",
    "                       random_state=1024)\n",
    "model_grid_random.fit(X_train, y_train)\n",
    "ypred = model_grid_random.predict(X_test)\n",
    "\n",
    "# Testando a acuracia do modelo\n",
    "score_train = model_grid_random.score(X_train, y_train)\n",
    "print(f'Score de treino: {score_train:.2%}')\n",
    "\n",
    "acuracia_test = accuracy_score(y_test, ypred)\n",
    "print(f'Acuracia do modelo RandomForest: {acuracia_test:.2%}')\n",
    "print()\n",
    "\n",
    "# Confusion Matrix\n",
    "cm = confusion_matrix(y_test, ypred, labels=model_grid_random.classes_)\n",
    "disp = ConfusionMatrixDisplay(confusion_matrix=cm, display_labels=model_grid_random.classes_)\n",
    "disp.plot()\n",
    "\n",
    "print(f'Quantidade de dados de teste: {y_test.shape[0]}')"
   ]
  },
  {
   "cell_type": "markdown",
   "metadata": {
    "id": "VQxqcBDa9A4E"
   },
   "source": [
    "##### RandomSearchCV"
   ]
  },
  {
   "cell_type": "code",
   "execution_count": 200,
   "metadata": {
    "colab": {
     "base_uri": "https://localhost:8080/"
    },
    "id": "HUOjZ_iN9BtF",
    "outputId": "8ca41ed3-5771-40a5-c17b-ccf19bda9c4d"
   },
   "outputs": [
    {
     "data": {
      "text/html": [
       "<style>#sk-container-id-14 {color: black;background-color: white;}#sk-container-id-14 pre{padding: 0;}#sk-container-id-14 div.sk-toggleable {background-color: white;}#sk-container-id-14 label.sk-toggleable__label {cursor: pointer;display: block;width: 100%;margin-bottom: 0;padding: 0.3em;box-sizing: border-box;text-align: center;}#sk-container-id-14 label.sk-toggleable__label-arrow:before {content: \"▸\";float: left;margin-right: 0.25em;color: #696969;}#sk-container-id-14 label.sk-toggleable__label-arrow:hover:before {color: black;}#sk-container-id-14 div.sk-estimator:hover label.sk-toggleable__label-arrow:before {color: black;}#sk-container-id-14 div.sk-toggleable__content {max-height: 0;max-width: 0;overflow: hidden;text-align: left;background-color: #f0f8ff;}#sk-container-id-14 div.sk-toggleable__content pre {margin: 0.2em;color: black;border-radius: 0.25em;background-color: #f0f8ff;}#sk-container-id-14 input.sk-toggleable__control:checked~div.sk-toggleable__content {max-height: 200px;max-width: 100%;overflow: auto;}#sk-container-id-14 input.sk-toggleable__control:checked~label.sk-toggleable__label-arrow:before {content: \"▾\";}#sk-container-id-14 div.sk-estimator input.sk-toggleable__control:checked~label.sk-toggleable__label {background-color: #d4ebff;}#sk-container-id-14 div.sk-label input.sk-toggleable__control:checked~label.sk-toggleable__label {background-color: #d4ebff;}#sk-container-id-14 input.sk-hidden--visually {border: 0;clip: rect(1px 1px 1px 1px);clip: rect(1px, 1px, 1px, 1px);height: 1px;margin: -1px;overflow: hidden;padding: 0;position: absolute;width: 1px;}#sk-container-id-14 div.sk-estimator {font-family: monospace;background-color: #f0f8ff;border: 1px dotted black;border-radius: 0.25em;box-sizing: border-box;margin-bottom: 0.5em;}#sk-container-id-14 div.sk-estimator:hover {background-color: #d4ebff;}#sk-container-id-14 div.sk-parallel-item::after {content: \"\";width: 100%;border-bottom: 1px solid gray;flex-grow: 1;}#sk-container-id-14 div.sk-label:hover label.sk-toggleable__label {background-color: #d4ebff;}#sk-container-id-14 div.sk-serial::before {content: \"\";position: absolute;border-left: 1px solid gray;box-sizing: border-box;top: 0;bottom: 0;left: 50%;z-index: 0;}#sk-container-id-14 div.sk-serial {display: flex;flex-direction: column;align-items: center;background-color: white;padding-right: 0.2em;padding-left: 0.2em;position: relative;}#sk-container-id-14 div.sk-item {position: relative;z-index: 1;}#sk-container-id-14 div.sk-parallel {display: flex;align-items: stretch;justify-content: center;background-color: white;position: relative;}#sk-container-id-14 div.sk-item::before, #sk-container-id-14 div.sk-parallel-item::before {content: \"\";position: absolute;border-left: 1px solid gray;box-sizing: border-box;top: 0;bottom: 0;left: 50%;z-index: -1;}#sk-container-id-14 div.sk-parallel-item {display: flex;flex-direction: column;z-index: 1;position: relative;background-color: white;}#sk-container-id-14 div.sk-parallel-item:first-child::after {align-self: flex-end;width: 50%;}#sk-container-id-14 div.sk-parallel-item:last-child::after {align-self: flex-start;width: 50%;}#sk-container-id-14 div.sk-parallel-item:only-child::after {width: 0;}#sk-container-id-14 div.sk-dashed-wrapped {border: 1px dashed gray;margin: 0 0.4em 0.5em 0.4em;box-sizing: border-box;padding-bottom: 0.4em;background-color: white;}#sk-container-id-14 div.sk-label label {font-family: monospace;font-weight: bold;display: inline-block;line-height: 1.2em;}#sk-container-id-14 div.sk-label-container {text-align: center;}#sk-container-id-14 div.sk-container {/* jupyter's `normalize.less` sets `[hidden] { display: none; }` but bootstrap.min.css set `[hidden] { display: none !important; }` so we also need the `!important` here to be able to override the default hidden behavior on the sphinx rendered scikit-learn.org. See: https://github.com/scikit-learn/scikit-learn/issues/21755 */display: inline-block !important;position: relative;}#sk-container-id-14 div.sk-text-repr-fallback {display: none;}</style><div id=\"sk-container-id-14\" class=\"sk-top-container\"><div class=\"sk-text-repr-fallback\"><pre>RandomForestClassifier(ccp_alpha=0.001, max_depth=12, max_features=&#x27;auto&#x27;,\n",
       "                       random_state=1024)</pre><b>In a Jupyter environment, please rerun this cell to show the HTML representation or trust the notebook. <br />On GitHub, the HTML representation is unable to render, please try loading this page with nbviewer.org.</b></div><div class=\"sk-container\" hidden><div class=\"sk-item\"><div class=\"sk-estimator sk-toggleable\"><input class=\"sk-toggleable__control sk-hidden--visually\" id=\"sk-estimator-id-14\" type=\"checkbox\" checked><label for=\"sk-estimator-id-14\" class=\"sk-toggleable__label sk-toggleable__label-arrow\">RandomForestClassifier</label><div class=\"sk-toggleable__content\"><pre>RandomForestClassifier(ccp_alpha=0.001, max_depth=12, max_features=&#x27;auto&#x27;,\n",
       "                       random_state=1024)</pre></div></div></div></div></div>"
      ],
      "text/plain": [
       "RandomForestClassifier(ccp_alpha=0.001, max_depth=12, max_features='auto',\n",
       "                       random_state=1024)"
      ]
     },
     "execution_count": 200,
     "metadata": {},
     "output_type": "execute_result"
    }
   ],
   "source": [
    "random_search = RandomizedSearchCV(estimator = modelo_random, param_distributions= rf_grid, \n",
    "                                   scoring= 'accuracy', cv = 5)\n",
    "\n",
    "# Treinando o modelo\n",
    "random_search.fit(X_train, y_train)\n",
    "\n",
    "# Entrega os melhores parâmetros mais adequados para o modelo\n",
    "final_model = random_search.best_estimator_\n",
    "final_model"
   ]
  },
  {
   "cell_type": "code",
   "execution_count": 201,
   "metadata": {
    "colab": {
     "base_uri": "https://localhost:8080/"
    },
    "id": "J_-dpiJC-PII",
    "outputId": "ca0b0c9b-5b70-4fe1-9ddf-d77d06f70575"
   },
   "outputs": [
    {
     "name": "stdout",
     "output_type": "stream",
     "text": [
      "Score de treino: 99.78%\n",
      "Acuracia do modelo RandomForest: 93.29%\n",
      "\n",
      "Quantidade de dados de teste: 298\n"
     ]
    },
    {
     "data": {
      "image/png": "[encoded data removed]",
      "text/plain": [
       "<Figure size 432x288 with 2 Axes>"
      ]
     },
     "metadata": {
      "needs_background": "light"
     },
     "output_type": "display_data"
    }
   ],
   "source": [
    "model_random_random = RandomForestClassifier(ccp_alpha=0.0001, criterion='entropy', max_depth=11,\n",
    "                       max_features='log2', random_state=1024)\n",
    "model_random_random.fit(X_train, y_train)\n",
    "ypred = model_random_random.predict(X_test)\n",
    "\n",
    "# Testando a acuracia do modelo\n",
    "score_train = model_random_random.score(X_train, y_train)\n",
    "print(f'Score de treino: {score_train:.2%}')\n",
    "\n",
    "acuracia_test = accuracy_score(y_test, ypred)\n",
    "print(f'Acuracia do modelo RandomForest: {acuracia_test:.2%}')\n",
    "print()\n",
    "\n",
    "# Confusion Matrix\n",
    "cm = confusion_matrix(y_test, ypred, labels=model_random_random.classes_)\n",
    "disp = ConfusionMatrixDisplay(confusion_matrix=cm, display_labels=model_random_random.classes_)\n",
    "disp.plot()\n",
    "\n",
    "print(f'Quantidade de dados de teste: {y_test.shape[0]}')"
   ]
  },
  {
   "cell_type": "markdown",
   "metadata": {
    "id": "AsOX2dE-uBBR"
   },
   "source": [
    "### Algoritmo 3 - KNN"
   ]
  },
  {
   "cell_type": "markdown",
   "metadata": {
    "id": "xjooOy6dk0JP"
   },
   "source": [
    "##### GridSearchCV"
   ]
  },
  {
   "cell_type": "code",
   "execution_count": 202,
   "metadata": {
    "colab": {
     "base_uri": "https://localhost:8080/"
    },
    "id": "FCHQ-7uEuBBR",
    "outputId": "5a1fb2d2-9171-43bf-b1f8-2bd4ee304d66"
   },
   "outputs": [
    {
     "name": "stdout",
     "output_type": "stream",
     "text": [
      "Fitting 5 folds for each of 49 candidates, totalling 245 fits\n",
      "{'n_neighbors': 1}\n"
     ]
    }
   ],
   "source": [
    "#Seu Código aqui...\n",
    "k_range = list(range(1,50))\n",
    "param_grid = dict(n_neighbors = k_range)\n",
    "\n",
    "model_grid_knn = GridSearchCV(modelo_knn, param_grid, scoring = 'accuracy', cv = 5, return_train_score=False, verbose=1)\n",
    "\n",
    "# Treinando o modelo\n",
    "model_grid_knn.fit(X_train, y_train)\n",
    "\n",
    "print(model_grid_knn.best_params_)"
   ]
  },
  {
   "cell_type": "code",
   "execution_count": 203,
   "metadata": {
    "colab": {
     "base_uri": "https://localhost:8080/"
    },
    "id": "xaS9lI86lANK",
    "outputId": "f10d9882-b574-491d-99a3-9e3bbab740ec"
   },
   "outputs": [
    {
     "name": "stdout",
     "output_type": "stream",
     "text": [
      "Score de treino: 100.00%\n",
      "Acuracia do modelo DT: 81.21%\n",
      "\n",
      "Quantidade de dados de teste: 298\n"
     ]
    },
    {
     "data": {
      "image/png": "[encoded data removed]",
      "text/plain": [
       "<Figure size 432x288 with 2 Axes>"
      ]
     },
     "metadata": {
      "needs_background": "light"
     },
     "output_type": "display_data"
    }
   ],
   "source": [
    "modelo_knn = KNeighborsClassifier(n_neighbors=1)\n",
    "modelo_knn.fit(X_train, y_train)\n",
    "\n",
    "# Predizendo novos valores\n",
    "ypred = model_grid_knn.predict(X_test)\n",
    "\n",
    "# Testando a acuracia do modelo\n",
    "score_train = modelo_knn.score(X_train, y_train)\n",
    "print(f'Score de treino: {score_train:.2%}')\n",
    "\n",
    "acuracia_test = accuracy_score(y_test, ypred)\n",
    "print(f'Acuracia do modelo DT: {acuracia_test:.2%}')\n",
    "print()\n",
    "\n",
    "# Confusion Matrix\n",
    "cm = confusion_matrix(y_test, ypred, labels=model_grid_knn.classes_)\n",
    "disp = ConfusionMatrixDisplay(confusion_matrix=cm, display_labels=model_grid_knn.classes_)\n",
    "disp.plot()\n",
    "\n",
    "print(f'Quantidade de dados de teste: {y_test.shape[0]}')"
   ]
  },
  {
   "cell_type": "markdown",
   "metadata": {
    "id": "Ej2v72DouBBR"
   },
   "source": [
    "Sumarize na tabela abaixo os resultados obtidos dos modelos de ML para o conjuntos de dados de treino e de testes"
   ]
  },
  {
   "cell_type": "markdown",
   "metadata": {
    "id": "YlH4pRAKuBBS"
   },
   "source": [
    "**Resposta:**\n",
    "\n",
    "|                     | DecisionTree | RandomForest | KNeighbors |\n",
    "|:---------------------|:------------------:|:-----------------------------:|:-----------------:|\n",
    "| treino |      97,53%           |      100%                       |   100%              |\n",
    "| teste  |      86,24%            |      94,30%                       |   81,21%              |\n"
   ]
  },
  {
   "cell_type": "markdown",
   "metadata": {
    "id": "xbFoXorPuBBS"
   },
   "source": [
    "**Pergunta:** Qual dos algoritmos obteve os melhores resultados? Quais caracaterísticas deste algoritmo podem ajudar a justificar tal resultado?\n",
    "\n",
    "**Resposta:** Os algorítimo de RandomForest e KNeighbors apresentaram 100% no score de treino, enquanto o algorítimo DecisionTree apresentou 93,53%, um valor inferior. No teste, quem teve o melhor resultado de acurácia foi o algorítimo RandomForest com 94,30%, enquanto os outros dois ficaram na casa dos 80%."
   ]
  },
  {
   "cell_type": "markdown",
   "metadata": {
    "id": "E9SM5KnIuBBS"
   },
   "source": [
    "## Salvando o modelo desenvolvido\n",
    "\n",
    "Configure o modelo selecionado com os parâmetros otimizados obtidos anteriormente e salve\n",
    "\n",
    "```python\n",
    "# exemplo de como salvar o modelo \"model\" no arquivo \"modelsave.pkl\"\n",
    "\n",
    "# import lib\n",
    "import pickle\n",
    "\n",
    "# salvar\n",
    "with open('modelsave.pkl', 'wb') as file:\n",
    "    pickle.dump(model, file)\n",
    "\n",
    "```"
   ]
  },
  {
   "cell_type": "code",
   "execution_count": 204,
   "metadata": {
    "id": "rlx5gCf8uBBS"
   },
   "outputs": [],
   "source": [
    "#Seu Código aqui...\n",
    "# import lib\n",
    "import pickle\n",
    "\n",
    "# salvar\n",
    "with open('modelsave.pkl', 'wb') as file:\n",
    "    pickle.dump(model_grid_random, file)"
   ]
  },
  {
   "cell_type": "markdown",
   "metadata": {
    "id": "fD9orhTRuBBS"
   },
   "source": [
    "## 6. Conclusões finais\n",
    "\n",
    "Ufa!!... Chegamos ao final deste projeto. Parabéns! De forma simplificada e completa passamos por todas as etapas de aprendizado de maquina. Outras etapas podem ser adicionadas no tratamento dos dados e desenvolvimento do modelo."
   ]
  },
  {
   "cell_type": "markdown",
   "metadata": {
    "id": "SPr5g23HuBBS"
   },
   "source": [
    "**Pergunta:** O modelo desenvolvido obteve um resultado satisfatório? Justifique:\n",
    "\n",
    "**Resposta**: Sim, tivemos um resultado satisfatório com o modelo desenvolvido, pois fizemos a exploração dos dados, preparação dos dados, desenvolvimento dos modelos, treinamento e teste dos modelos e a validação e otimização dos modelos. Em ambos os casos (Treinamento e teste do modelo e Validação e Otimização do Modelo), o RandomForest obteve o melhor resultado."
   ]
  },
  {
   "cell_type": "markdown",
   "metadata": {
    "collapsed": true,
    "id": "co-ind0WuBBS"
   },
   "source": [
    "**Pergunta:** O que faria diferente para melhorar resultado obtido? Justifique:\n",
    "\n",
    "**Resposta**: Tentariamos utilizar outros algorítmos para verificar se teriamos um resultado mais preciso do que os que foram testados."
   ]
  },
  {
   "cell_type": "markdown",
   "metadata": {
    "id": "1QixFGIKuBBS"
   },
   "source": [
    "**Pergunta:** As etapas de desenvolvimento se aplicam para um problema de classificação? Justifique:\n",
    "\n",
    "**Resposta**: Sim, pois os modelos de classificação são do tipo supervisionado e predizem resultados de tipo classe. Isso significa que um modelo de classificação vai prever qualquer tipo de categoria ou classe, tal como tipo de objeto ou classificação."
   ]
  },
  {
   "cell_type": "markdown",
   "metadata": {
    "id": "s55EAvXkuBBT"
   },
   "source": [
    "## 7. Deploy \n",
    "\n",
    "Etapa bonûs (Até 2 pontos *extra)\n",
    "\n",
    "Essa parte não é obrigatória, por esse motivo é considerada pontuação extra na nota para quem desenvolver.\n",
    "\n",
    "\n",
    "Faça o deploy do modelo de ML desenvolvido em um webserver. Como sugestão utilize Flask ou FastAPI ou Django. Procure por referências na web."
   ]
  },
  {
   "cell_type": "code",
   "execution_count": null,
   "metadata": {},
   "outputs": [],
   "source": [
    "#instalar o pip install streamlit"
   ]
  },
  {
   "cell_type": "code",
   "execution_count": 208,
   "metadata": {
    "id": "QWWftfELwI7g"
   },
   "outputs": [],
   "source": [
    "import joblib\n",
    "joblib.dump(model_grid_random, 'modelo.joblin')"
   ]
  }
 ],
 "metadata": {
  "colab": {
   "collapsed_sections": [
    "o2fuLNaduBBP"
   ],
   "provenance": []
  },
  "kernelspec": {
   "display_name": "Python 3 (ipykernel)",
   "language": "python",
   "name": "python3"
  },
  "language_info": {
   "codemirror_mode": {
    "name": "ipython",
    "version": 3
   },
   "file_extension": ".py",
   "mimetype": "text/x-python",
   "name": "python",
   "nbconvert_exporter": "python",
   "pygments_lexer": "ipython3",
   "version": "3.10.2"
  },
  "vscode": {
   "interpreter": {
    "hash": "8d68938bd6f1c8d824a292cb48fdc812f23ce0d2e12c844cec6ac89d2f668725"
   }
  }
 },
 "nbformat": 4,
 "nbformat_minor": 1
}
